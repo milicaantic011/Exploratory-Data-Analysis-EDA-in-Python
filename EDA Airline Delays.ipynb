{
 "cells": [
  {
   "cell_type": "markdown",
   "id": "1e1b7e64",
   "metadata": {},
   "source": [
    "# ✈️  Exploratory Data Analysis for the Kaggle Airline Delays dataset\n",
    "## 📌 Introduction\n",
    "This dataset contains information on **airline delays in the United States** for **December 2019 and December 2020**.  \n",
    "The focus is on arrival flights, cancellations, diversions, and delays, along with their causes (carrier, weather, airspace system, security, and late aircraft).  \n",
    "\n",
    "## 📊 Description\n",
    "- **Timeframe**: December 2019 and December 2020  \n",
    "- **Scope**: U.S. domestic flights  \n",
    "- **Unit of analysis**: Flights aggregated **per carrier per U.S. city**  \n",
    "- **Features included**:  \n",
    "  - `arr_flights` — total arrival flights  \n",
    "  - `carrier_ct` — number of carrier-related delays  \n",
    "  - `weather_ct` — number of weather-related delays  \n",
    "  - `nas_ct` — number of NAS/system delays  \n",
    "  - `security_ct` — number of security-related delays  \n",
    "  - `late_aircraft_ct` — number of late aircraft delays  \n",
    "  - `arr_cancelled` — cancelled flights  \n",
    "  - `arr_diverted` — diverted flights  \n",
    "\n",
    "\n",
    "The dataset allows us to explore delay patterns, identify the main contributors to disruptions, and compare performance across carriers and cities.  \n",
    "Source: Kaggle, Airline Delays CSV file.\n"
   ]
  },
  {
   "cell_type": "code",
   "execution_count": 1,
   "id": "83dfc723",
   "metadata": {},
   "outputs": [
    {
     "data": {
      "text/html": [
       "\n",
       "            <div>\n",
       "                <ins><a href=\"https://ydata.ai/register\">Upgrade to ydata-sdk</a></ins>\n",
       "                <p>\n",
       "                    Improve your data and profiling with ydata-sdk, featuring data quality scoring, redundancy detection, outlier identification, text validation, and synthetic data generation.\n",
       "                </p>\n",
       "            </div>\n",
       "            "
      ],
      "text/plain": [
       "<IPython.core.display.HTML object>"
      ]
     },
     "metadata": {},
     "output_type": "display_data"
    },
    {
     "name": "stdout",
     "output_type": "stream",
     "text": [
      "══════════════════════════════════════════════════\n",
      "FIRST 10 ROWS OF DATASET:\n",
      "══════════════════════════════════════════════════\n"
     ]
    },
    {
     "data": {
      "text/html": [
       "<div>\n",
       "<style scoped>\n",
       "    .dataframe tbody tr th:only-of-type {\n",
       "        vertical-align: middle;\n",
       "    }\n",
       "\n",
       "    .dataframe tbody tr th {\n",
       "        vertical-align: top;\n",
       "    }\n",
       "\n",
       "    .dataframe thead th {\n",
       "        text-align: right;\n",
       "    }\n",
       "</style>\n",
       "<table border=\"1\" class=\"dataframe\">\n",
       "  <thead>\n",
       "    <tr style=\"text-align: right;\">\n",
       "      <th></th>\n",
       "      <th>year</th>\n",
       "      <th>month</th>\n",
       "      <th>carrier</th>\n",
       "      <th>carrier_name</th>\n",
       "      <th>airport</th>\n",
       "      <th>airport_name</th>\n",
       "      <th>arr_flights</th>\n",
       "      <th>arr_del15</th>\n",
       "      <th>carrier_ct</th>\n",
       "      <th>weather_ct</th>\n",
       "      <th>...</th>\n",
       "      <th>security_ct</th>\n",
       "      <th>late_aircraft_ct</th>\n",
       "      <th>arr_cancelled</th>\n",
       "      <th>arr_diverted</th>\n",
       "      <th>arr_delay</th>\n",
       "      <th>carrier_delay</th>\n",
       "      <th>weather_delay</th>\n",
       "      <th>nas_delay</th>\n",
       "      <th>security_delay</th>\n",
       "      <th>late_aircraft_delay</th>\n",
       "    </tr>\n",
       "  </thead>\n",
       "  <tbody>\n",
       "    <tr>\n",
       "      <th>0</th>\n",
       "      <td>2020</td>\n",
       "      <td>12</td>\n",
       "      <td>9E</td>\n",
       "      <td>Endeavor Air Inc.</td>\n",
       "      <td>ABE</td>\n",
       "      <td>Allentown/Bethlehem/Easton, PA: Lehigh Valley ...</td>\n",
       "      <td>44.0</td>\n",
       "      <td>3.0</td>\n",
       "      <td>1.63</td>\n",
       "      <td>0.00</td>\n",
       "      <td>...</td>\n",
       "      <td>0.0</td>\n",
       "      <td>1.25</td>\n",
       "      <td>0.0</td>\n",
       "      <td>1.0</td>\n",
       "      <td>89.0</td>\n",
       "      <td>56.0</td>\n",
       "      <td>0.0</td>\n",
       "      <td>3.0</td>\n",
       "      <td>0.0</td>\n",
       "      <td>30.0</td>\n",
       "    </tr>\n",
       "    <tr>\n",
       "      <th>1</th>\n",
       "      <td>2020</td>\n",
       "      <td>12</td>\n",
       "      <td>9E</td>\n",
       "      <td>Endeavor Air Inc.</td>\n",
       "      <td>ABY</td>\n",
       "      <td>Albany, GA: Southwest Georgia Regional</td>\n",
       "      <td>90.0</td>\n",
       "      <td>1.0</td>\n",
       "      <td>0.96</td>\n",
       "      <td>0.00</td>\n",
       "      <td>...</td>\n",
       "      <td>0.0</td>\n",
       "      <td>0.00</td>\n",
       "      <td>0.0</td>\n",
       "      <td>0.0</td>\n",
       "      <td>23.0</td>\n",
       "      <td>22.0</td>\n",
       "      <td>0.0</td>\n",
       "      <td>1.0</td>\n",
       "      <td>0.0</td>\n",
       "      <td>0.0</td>\n",
       "    </tr>\n",
       "    <tr>\n",
       "      <th>2</th>\n",
       "      <td>2020</td>\n",
       "      <td>12</td>\n",
       "      <td>9E</td>\n",
       "      <td>Endeavor Air Inc.</td>\n",
       "      <td>AEX</td>\n",
       "      <td>Alexandria, LA: Alexandria International</td>\n",
       "      <td>88.0</td>\n",
       "      <td>8.0</td>\n",
       "      <td>5.75</td>\n",
       "      <td>0.00</td>\n",
       "      <td>...</td>\n",
       "      <td>0.0</td>\n",
       "      <td>0.65</td>\n",
       "      <td>0.0</td>\n",
       "      <td>1.0</td>\n",
       "      <td>338.0</td>\n",
       "      <td>265.0</td>\n",
       "      <td>0.0</td>\n",
       "      <td>45.0</td>\n",
       "      <td>0.0</td>\n",
       "      <td>28.0</td>\n",
       "    </tr>\n",
       "    <tr>\n",
       "      <th>3</th>\n",
       "      <td>2020</td>\n",
       "      <td>12</td>\n",
       "      <td>9E</td>\n",
       "      <td>Endeavor Air Inc.</td>\n",
       "      <td>AGS</td>\n",
       "      <td>Augusta, GA: Augusta Regional at Bush Field</td>\n",
       "      <td>184.0</td>\n",
       "      <td>9.0</td>\n",
       "      <td>4.17</td>\n",
       "      <td>0.00</td>\n",
       "      <td>...</td>\n",
       "      <td>0.0</td>\n",
       "      <td>3.00</td>\n",
       "      <td>0.0</td>\n",
       "      <td>0.0</td>\n",
       "      <td>508.0</td>\n",
       "      <td>192.0</td>\n",
       "      <td>0.0</td>\n",
       "      <td>92.0</td>\n",
       "      <td>0.0</td>\n",
       "      <td>224.0</td>\n",
       "    </tr>\n",
       "    <tr>\n",
       "      <th>4</th>\n",
       "      <td>2020</td>\n",
       "      <td>12</td>\n",
       "      <td>9E</td>\n",
       "      <td>Endeavor Air Inc.</td>\n",
       "      <td>ALB</td>\n",
       "      <td>Albany, NY: Albany International</td>\n",
       "      <td>76.0</td>\n",
       "      <td>11.0</td>\n",
       "      <td>4.78</td>\n",
       "      <td>0.00</td>\n",
       "      <td>...</td>\n",
       "      <td>0.0</td>\n",
       "      <td>1.00</td>\n",
       "      <td>1.0</td>\n",
       "      <td>0.0</td>\n",
       "      <td>692.0</td>\n",
       "      <td>398.0</td>\n",
       "      <td>0.0</td>\n",
       "      <td>178.0</td>\n",
       "      <td>0.0</td>\n",
       "      <td>116.0</td>\n",
       "    </tr>\n",
       "    <tr>\n",
       "      <th>5</th>\n",
       "      <td>2020</td>\n",
       "      <td>12</td>\n",
       "      <td>9E</td>\n",
       "      <td>Endeavor Air Inc.</td>\n",
       "      <td>ATL</td>\n",
       "      <td>Atlanta, GA: Hartsfield-Jackson Atlanta Intern...</td>\n",
       "      <td>5985.0</td>\n",
       "      <td>445.0</td>\n",
       "      <td>142.89</td>\n",
       "      <td>11.96</td>\n",
       "      <td>...</td>\n",
       "      <td>1.0</td>\n",
       "      <td>127.79</td>\n",
       "      <td>5.0</td>\n",
       "      <td>0.0</td>\n",
       "      <td>30756.0</td>\n",
       "      <td>16390.0</td>\n",
       "      <td>1509.0</td>\n",
       "      <td>5060.0</td>\n",
       "      <td>16.0</td>\n",
       "      <td>7781.0</td>\n",
       "    </tr>\n",
       "    <tr>\n",
       "      <th>6</th>\n",
       "      <td>2020</td>\n",
       "      <td>12</td>\n",
       "      <td>9E</td>\n",
       "      <td>Endeavor Air Inc.</td>\n",
       "      <td>ATW</td>\n",
       "      <td>Appleton, WI: Appleton International</td>\n",
       "      <td>142.0</td>\n",
       "      <td>14.0</td>\n",
       "      <td>5.36</td>\n",
       "      <td>0.00</td>\n",
       "      <td>...</td>\n",
       "      <td>0.0</td>\n",
       "      <td>0.94</td>\n",
       "      <td>1.0</td>\n",
       "      <td>0.0</td>\n",
       "      <td>436.0</td>\n",
       "      <td>162.0</td>\n",
       "      <td>0.0</td>\n",
       "      <td>182.0</td>\n",
       "      <td>0.0</td>\n",
       "      <td>92.0</td>\n",
       "    </tr>\n",
       "    <tr>\n",
       "      <th>7</th>\n",
       "      <td>2020</td>\n",
       "      <td>12</td>\n",
       "      <td>9E</td>\n",
       "      <td>Endeavor Air Inc.</td>\n",
       "      <td>AVL</td>\n",
       "      <td>Asheville, NC: Asheville Regional</td>\n",
       "      <td>147.0</td>\n",
       "      <td>10.0</td>\n",
       "      <td>6.04</td>\n",
       "      <td>1.00</td>\n",
       "      <td>...</td>\n",
       "      <td>0.0</td>\n",
       "      <td>1.96</td>\n",
       "      <td>0.0</td>\n",
       "      <td>1.0</td>\n",
       "      <td>1070.0</td>\n",
       "      <td>838.0</td>\n",
       "      <td>141.0</td>\n",
       "      <td>24.0</td>\n",
       "      <td>0.0</td>\n",
       "      <td>67.0</td>\n",
       "    </tr>\n",
       "    <tr>\n",
       "      <th>8</th>\n",
       "      <td>2020</td>\n",
       "      <td>12</td>\n",
       "      <td>9E</td>\n",
       "      <td>Endeavor Air Inc.</td>\n",
       "      <td>AZO</td>\n",
       "      <td>Kalamazoo, MI: Kalamazoo/Battle Creek Internat...</td>\n",
       "      <td>84.0</td>\n",
       "      <td>14.0</td>\n",
       "      <td>6.24</td>\n",
       "      <td>0.96</td>\n",
       "      <td>...</td>\n",
       "      <td>0.0</td>\n",
       "      <td>0.00</td>\n",
       "      <td>1.0</td>\n",
       "      <td>1.0</td>\n",
       "      <td>2006.0</td>\n",
       "      <td>1164.0</td>\n",
       "      <td>619.0</td>\n",
       "      <td>223.0</td>\n",
       "      <td>0.0</td>\n",
       "      <td>0.0</td>\n",
       "    </tr>\n",
       "    <tr>\n",
       "      <th>9</th>\n",
       "      <td>2020</td>\n",
       "      <td>12</td>\n",
       "      <td>9E</td>\n",
       "      <td>Endeavor Air Inc.</td>\n",
       "      <td>BDL</td>\n",
       "      <td>Hartford, CT: Bradley International</td>\n",
       "      <td>150.0</td>\n",
       "      <td>19.0</td>\n",
       "      <td>5.70</td>\n",
       "      <td>0.00</td>\n",
       "      <td>...</td>\n",
       "      <td>0.0</td>\n",
       "      <td>1.23</td>\n",
       "      <td>3.0</td>\n",
       "      <td>0.0</td>\n",
       "      <td>846.0</td>\n",
       "      <td>423.0</td>\n",
       "      <td>0.0</td>\n",
       "      <td>389.0</td>\n",
       "      <td>0.0</td>\n",
       "      <td>34.0</td>\n",
       "    </tr>\n",
       "  </tbody>\n",
       "</table>\n",
       "<p>10 rows × 21 columns</p>\n",
       "</div>"
      ],
      "text/plain": [
       "   year  month carrier       carrier_name airport  \\\n",
       "0  2020     12      9E  Endeavor Air Inc.     ABE   \n",
       "1  2020     12      9E  Endeavor Air Inc.     ABY   \n",
       "2  2020     12      9E  Endeavor Air Inc.     AEX   \n",
       "3  2020     12      9E  Endeavor Air Inc.     AGS   \n",
       "4  2020     12      9E  Endeavor Air Inc.     ALB   \n",
       "5  2020     12      9E  Endeavor Air Inc.     ATL   \n",
       "6  2020     12      9E  Endeavor Air Inc.     ATW   \n",
       "7  2020     12      9E  Endeavor Air Inc.     AVL   \n",
       "8  2020     12      9E  Endeavor Air Inc.     AZO   \n",
       "9  2020     12      9E  Endeavor Air Inc.     BDL   \n",
       "\n",
       "                                        airport_name  arr_flights  arr_del15  \\\n",
       "0  Allentown/Bethlehem/Easton, PA: Lehigh Valley ...         44.0        3.0   \n",
       "1             Albany, GA: Southwest Georgia Regional         90.0        1.0   \n",
       "2           Alexandria, LA: Alexandria International         88.0        8.0   \n",
       "3        Augusta, GA: Augusta Regional at Bush Field        184.0        9.0   \n",
       "4                   Albany, NY: Albany International         76.0       11.0   \n",
       "5  Atlanta, GA: Hartsfield-Jackson Atlanta Intern...       5985.0      445.0   \n",
       "6               Appleton, WI: Appleton International        142.0       14.0   \n",
       "7                  Asheville, NC: Asheville Regional        147.0       10.0   \n",
       "8  Kalamazoo, MI: Kalamazoo/Battle Creek Internat...         84.0       14.0   \n",
       "9                Hartford, CT: Bradley International        150.0       19.0   \n",
       "\n",
       "   carrier_ct  weather_ct  ...  security_ct  late_aircraft_ct  arr_cancelled  \\\n",
       "0        1.63        0.00  ...          0.0              1.25            0.0   \n",
       "1        0.96        0.00  ...          0.0              0.00            0.0   \n",
       "2        5.75        0.00  ...          0.0              0.65            0.0   \n",
       "3        4.17        0.00  ...          0.0              3.00            0.0   \n",
       "4        4.78        0.00  ...          0.0              1.00            1.0   \n",
       "5      142.89       11.96  ...          1.0            127.79            5.0   \n",
       "6        5.36        0.00  ...          0.0              0.94            1.0   \n",
       "7        6.04        1.00  ...          0.0              1.96            0.0   \n",
       "8        6.24        0.96  ...          0.0              0.00            1.0   \n",
       "9        5.70        0.00  ...          0.0              1.23            3.0   \n",
       "\n",
       "   arr_diverted  arr_delay  carrier_delay  weather_delay  nas_delay  \\\n",
       "0           1.0       89.0           56.0            0.0        3.0   \n",
       "1           0.0       23.0           22.0            0.0        1.0   \n",
       "2           1.0      338.0          265.0            0.0       45.0   \n",
       "3           0.0      508.0          192.0            0.0       92.0   \n",
       "4           0.0      692.0          398.0            0.0      178.0   \n",
       "5           0.0    30756.0        16390.0         1509.0     5060.0   \n",
       "6           0.0      436.0          162.0            0.0      182.0   \n",
       "7           1.0     1070.0          838.0          141.0       24.0   \n",
       "8           1.0     2006.0         1164.0          619.0      223.0   \n",
       "9           0.0      846.0          423.0            0.0      389.0   \n",
       "\n",
       "   security_delay  late_aircraft_delay  \n",
       "0             0.0                 30.0  \n",
       "1             0.0                  0.0  \n",
       "2             0.0                 28.0  \n",
       "3             0.0                224.0  \n",
       "4             0.0                116.0  \n",
       "5            16.0               7781.0  \n",
       "6             0.0                 92.0  \n",
       "7             0.0                 67.0  \n",
       "8             0.0                  0.0  \n",
       "9             0.0                 34.0  \n",
       "\n",
       "[10 rows x 21 columns]"
      ]
     },
     "execution_count": 1,
     "metadata": {},
     "output_type": "execute_result"
    }
   ],
   "source": [
    "# -------------------------------\n",
    "# Import necessary libraries\n",
    "# -------------------------------\n",
    "import pandas as pd\n",
    "import numpy as np\n",
    "import matplotlib.pyplot as plt\n",
    "import seaborn as sns\n",
    "from ydata_profiling import ProfileReport\n",
    "from scipy import stats\n",
    "import plotly.express as px\n",
    "import plotly.graph_objects as go\n",
    "\n",
    "\n",
    "# Load the dataset\n",
    "# -------------------------------\n",
    "df_airline_delays= pd.read_csv(\"airline_delay.csv\")\n",
    "\n",
    "# Data set display\n",
    "# -------------------------------\n",
    "print(\"═\" * 50)\n",
    "print(\"FIRST 10 ROWS OF DATASET:\")\n",
    "print(\"═\" * 50)\n",
    "df_airline_delays.head(10)\n"
   ]
  },
  {
   "cell_type": "code",
   "execution_count": 2,
   "id": "032a51a4",
   "metadata": {},
   "outputs": [
    {
     "name": "stdout",
     "output_type": "stream",
     "text": [
      "\n",
      "══════════════════════════════════════════════════\n",
      "BASIC INFORMATION ABOUT THE DATASET:\n",
      "══════════════════════════════════════════════════\n",
      "\n",
      "Dataset dimensions: (3351, 21)\n",
      "\n",
      "Number of rows: 3351\n",
      "\n",
      "Number of columns: 21\n"
     ]
    }
   ],
   "source": [
    "# -------------------------------\n",
    "# Basic information about the dataset\n",
    "# -------------------------------\n",
    "print(\"\\n\" + \"═\" * 50)\n",
    "print(\"BASIC INFORMATION ABOUT THE DATASET:\")\n",
    "print(\"═\" * 50)\n",
    "\n",
    "print(f\"\\nDataset dimensions: {df_airline_delays.shape}\")\n",
    "print(f\"\\nNumber of rows: {df_airline_delays.shape[0]}\")\n",
    "print(f\"\\nNumber of columns: {df_airline_delays.shape[1]}\")\n",
    "\n"
   ]
  },
  {
   "cell_type": "code",
   "execution_count": 3,
   "id": "4abf6219",
   "metadata": {},
   "outputs": [
    {
     "name": "stdout",
     "output_type": "stream",
     "text": [
      "\n",
      "══════════════════════════════════════════════════\n",
      "INFORMATION ON DATA TYPES:\n",
      "══════════════════════════════════════════════════\n",
      "<class 'pandas.core.frame.DataFrame'>\n",
      "RangeIndex: 3351 entries, 0 to 3350\n",
      "Data columns (total 21 columns):\n",
      " #   Column               Non-Null Count  Dtype  \n",
      "---  ------               --------------  -----  \n",
      " 0   year                 3351 non-null   int64  \n",
      " 1   month                3351 non-null   int64  \n",
      " 2   carrier              3351 non-null   object \n",
      " 3   carrier_name         3351 non-null   object \n",
      " 4   airport              3351 non-null   object \n",
      " 5   airport_name         3351 non-null   object \n",
      " 6   arr_flights          3343 non-null   float64\n",
      " 7   arr_del15            3343 non-null   float64\n",
      " 8   carrier_ct           3343 non-null   float64\n",
      " 9   weather_ct           3343 non-null   float64\n",
      " 10  nas_ct               3343 non-null   float64\n",
      " 11  security_ct          3343 non-null   float64\n",
      " 12  late_aircraft_ct     3343 non-null   float64\n",
      " 13  arr_cancelled        3343 non-null   float64\n",
      " 14  arr_diverted         3343 non-null   float64\n",
      " 15  arr_delay            3343 non-null   float64\n",
      " 16  carrier_delay        3343 non-null   float64\n",
      " 17  weather_delay        3343 non-null   float64\n",
      " 18  nas_delay            3343 non-null   float64\n",
      " 19  security_delay       3343 non-null   float64\n",
      " 20  late_aircraft_delay  3343 non-null   float64\n",
      "dtypes: float64(15), int64(2), object(4)\n",
      "memory usage: 549.9+ KB\n"
     ]
    }
   ],
   "source": [
    "# -------------------------------\n",
    "# Information on data types\n",
    "# -------------------------------\n",
    "\n",
    "print(\"\\n\" + \"═\" * 50)\n",
    "print(\"INFORMATION ON DATA TYPES:\")\n",
    "print(\"═\" * 50)\n",
    "df_airline_delays.info()\n"
   ]
  },
  {
   "cell_type": "code",
   "execution_count": 4,
   "id": "a20b64c9",
   "metadata": {},
   "outputs": [
    {
     "name": "stdout",
     "output_type": "stream",
     "text": [
      "\n",
      "══════════════════════════════════════════════════\n",
      "DESCRIPTIVE STATISTICS:\n",
      "══════════════════════════════════════════════════\n",
      "          year   month  arr_flights  arr_del15  carrier_ct  weather_ct  \\\n",
      "count  3351.00  3351.0      3343.00    3343.00     3343.00     3343.00   \n",
      "mean   2019.46    12.0       298.27      51.00       16.07        1.44   \n",
      "std       0.50     0.0       852.44     146.48       41.76        4.82   \n",
      "min    2019.00    12.0         1.00       0.00        0.00        0.00   \n",
      "25%    2019.00    12.0        35.00       5.00        1.49        0.00   \n",
      "50%    2019.00    12.0        83.00      12.00        4.75        0.06   \n",
      "75%    2020.00    12.0       194.50      33.00       12.26        1.01   \n",
      "max    2020.00    12.0     19713.00    2289.00      697.00       89.42   \n",
      "\n",
      "        nas_ct  security_ct  late_aircraft_ct  arr_cancelled  arr_diverted  \\\n",
      "count  3343.00      3343.00           3343.00        3343.00       3343.00   \n",
      "mean     16.18         0.14             17.17           2.88          0.58   \n",
      "std      56.42         0.65             55.45          10.13          2.10   \n",
      "min       0.00         0.00              0.00           0.00          0.00   \n",
      "25%       0.82         0.00              0.90           0.00          0.00   \n",
      "50%       2.98         0.00              3.28           0.00          0.00   \n",
      "75%       8.87         0.00             10.24           2.00          0.00   \n",
      "max    1039.54        17.31            819.66         224.00         42.00   \n",
      "\n",
      "       arr_delay  carrier_delay  weather_delay  nas_delay  security_delay  \\\n",
      "count    3343.00        3343.00        3343.00    3343.00         3343.00   \n",
      "mean     3333.87        1144.76         177.59     749.58            5.40   \n",
      "std     10284.93        3371.10         734.34    3190.51           27.16   \n",
      "min         0.00           0.00           0.00       0.00            0.00   \n",
      "25%       230.00          68.50           0.00      21.50            0.00   \n",
      "50%       746.00         272.00           3.00     106.00            0.00   \n",
      "75%      2095.50         830.50          82.00     362.00            0.00   \n",
      "max    160383.00       55215.00       14219.00   82064.00          553.00   \n",
      "\n",
      "       late_aircraft_delay  \n",
      "count              3343.00  \n",
      "mean               1256.53  \n",
      "std                4184.45  \n",
      "min                   0.00  \n",
      "25%                  31.00  \n",
      "50%                 205.00  \n",
      "75%                 724.00  \n",
      "max               75179.00  \n"
     ]
    }
   ],
   "source": [
    "# -------------------------------\n",
    "# Descriptive statistics\n",
    "# -------------------------------\n",
    "print(\"\\n\" + \"═\" * 50)\n",
    "print(\"DESCRIPTIVE STATISTICS:\")\n",
    "print(\"═\" * 50)\n",
    "print(df_airline_delays.describe().round(2))"
   ]
  },
  {
   "cell_type": "markdown",
   "id": "32498e09",
   "metadata": {},
   "source": [
    "# ✈️ Descriptive Statistics Analysis of Flight Delays\n",
    "\n",
    "## 🔎 General Overview\n",
    "- **Year**: Data only covers **2019 and 2020**.  \n",
    "- **Month**: All records are for **December (12)** → dataset is focused only on December 2019 and December 2020.  \n",
    "- **Count**: ~3,351 rows → solid sample size.  \n",
    "\n",
    "---\n",
    "\n",
    "## 🛫 Flights\n",
    "- **arr_flights (arrival flights)**  \n",
    "  - **Mean**: ~298  \n",
    "  - **Median (50%)**: 83  \n",
    "  - **Max**: 19,713  \n",
    "  - ➝ A few very large airports dominate, while most airports handle <100 flights.  \n",
    "\n",
    "- **arr_cancelled (canceled flights)**  \n",
    "  - **Median**: 0  \n",
    "  - **Max**: 224  \n",
    "  - ➝ Most airports had no cancellations, but some outliers show large numbers.  \n",
    "\n",
    "- **arr_diverted (diverted flights)**  \n",
    "  - **Median**: 0  \n",
    "  - **Max**: 42  \n",
    "  - ➝ Diversions are rare.  \n",
    "\n",
    "---\n",
    "\n",
    "## ⏱️ Delays and Causes\n",
    "- **arr_del15 (flights delayed >15 min)**  \n",
    "  - **Mean**: 51  \n",
    "  - **Median**: 12  \n",
    "  - **Max**: 2,289  \n",
    "  - ➝ Most airports have relatively few delays, but some airports have thousands.  \n",
    "\n",
    "- **Delay causes (counts of delayed flights):**\n",
    "  - **Carrier_ct (airline responsibility)** → mean 16, **max ~697**  \n",
    "  - **Late_aircraft_ct (previous aircraft delayed)** → mean 17, **max ~820**  \n",
    "  - **NAS_ct (airspace system issues)** → mean 16, **max ~1,039**  \n",
    "  - **Weather_ct** → mean 1.4, **max ~89**  \n",
    "  - **Security_ct** → mean 0.14, **max ~17**  \n",
    "\n",
    "👉 **Conclusion**: The top three causes are **airline responsibility, late aircraft, and NAS issues**. Weather and security play a much smaller role.  \n",
    "\n",
    "---\n",
    "\n",
    "## ⏳ Length of Delays\n",
    "- **arr_delay (total arrival delay minutes)**  \n",
    "  - **Mean**: 1.25 minutes  \n",
    "  - **Median**: 0 minutes  \n",
    "  - **Max**: 1,150 minutes  \n",
    "  - ➝ Most flights are on time; averages are inflated by outliers.  \n",
    "\n",
    "- **Other delays (minutes):**  \n",
    "  - **Carrier delay, weather delay, NAS delay, late aircraft delay** → mostly 0, but extreme outliers exist.  \n",
    "  - **Security delay** → nearly always 0.  \n",
    "\n",
    "---\n",
    "\n",
    "## 📊 Key Insights\n",
    "1. **Highly skewed distribution** → Most flights/airports experience little to no delay, but a few extreme cases distort averages.  \n",
    "2. **Main drivers of delays**:  \n",
    "   - Airline responsibility  \n",
    "   - Late aircraft from previous flights  \n",
    "   - NAS (air traffic system) issues  \n",
    "3. **Weather and security delays are rare**, though extreme weather can cause spikes.  \n",
    "4. **Cancellations and diversions are uncommon**, but some airports show clusters of cancellations.  \n",
    "5. **Median values (50%) give a clearer picture** than means, since the dataset is dominated by outliers.  \n"
   ]
  },
  {
   "cell_type": "code",
   "execution_count": 5,
   "id": "0d107f09",
   "metadata": {},
   "outputs": [
    {
     "name": "stdout",
     "output_type": "stream",
     "text": [
      "UNIQUE VALUES FOR CATEGORICAL COLUMNS:\n",
      "══════════════════════════════════════════════════\n",
      "Number of Unique Carriers: 17\n",
      "Number of Unique Airports: 360\n",
      "Months in Data: [12]\n",
      "Years in Data: [2020 2019]\n"
     ]
    }
   ],
   "source": [
    "# -----------------------------------------------\n",
    "# Check unique values for categorical columns\n",
    "# -----------------------------------------------\n",
    "print(\"UNIQUE VALUES FOR CATEGORICAL COLUMNS:\")\n",
    "print(\"═\" * 50)\n",
    "print(\"Number of Unique Carriers:\", df_airline_delays['carrier'].nunique())\n",
    "print(\"Number of Unique Airports:\", df_airline_delays['airport'].nunique())\n",
    "print(\"Months in Data:\", df_airline_delays['month'].unique())\n",
    "print(\"Years in Data:\", df_airline_delays['year'].unique())\n"
   ]
  },
  {
   "cell_type": "code",
   "execution_count": 6,
   "id": "200d73cf",
   "metadata": {},
   "outputs": [
    {
     "name": "stdout",
     "output_type": "stream",
     "text": [
      "\n",
      "══════════════════════════════════════════════════\n",
      "MISSING VALUES IN DATASET:\n",
      "══════════════════════════════════════════════════\n",
      "                     Missing Values  Percentage (%)\n",
      "arr_flights                       8        0.238735\n",
      "arr_del15                         8        0.238735\n",
      "carrier_ct                        8        0.238735\n",
      "weather_ct                        8        0.238735\n",
      "nas_ct                            8        0.238735\n",
      "security_ct                       8        0.238735\n",
      "late_aircraft_ct                  8        0.238735\n",
      "arr_cancelled                     8        0.238735\n",
      "arr_diverted                      8        0.238735\n",
      "arr_delay                         8        0.238735\n",
      "carrier_delay                     8        0.238735\n",
      "weather_delay                     8        0.238735\n",
      "nas_delay                         8        0.238735\n",
      "security_delay                    8        0.238735\n",
      "late_aircraft_delay               8        0.238735\n"
     ]
    }
   ],
   "source": [
    "# -------------------------------\n",
    "# Missing values in dataset\n",
    "# -------------------------------\n",
    "print(\"\\n\" + \"═\" * 50)\n",
    "print(\"MISSING VALUES IN DATASET:\")\n",
    "print(\"═\" * 50)\n",
    "missing_values = df_airline_delays.isnull().sum()\n",
    "missing_percent = (df_airline_delays.isnull().sum() / len(df_airline_delays)) * 100\n",
    "missing_df = pd.DataFrame({\n",
    "    'Missing Values': missing_values,\n",
    "    'Percentage (%)': missing_percent\n",
    "})\n",
    "print(missing_df[missing_df['Missing Values'] > 0])"
   ]
  },
  {
   "cell_type": "code",
   "execution_count": 7,
   "id": "4c677858",
   "metadata": {},
   "outputs": [],
   "source": [
    "# --------------------------------------------------------------\n",
    "# Cleaning of numerical columns and filling with median values\n",
    "# ---------------------------------------------------------------\n",
    "df_clean = df_airline_delays.copy()\n",
    "numeric_cols = df_airline_delays.select_dtypes(include=[np.number]).columns.tolist()\n",
    "for col in numeric_cols:\n",
    "    if df_airline_delays[col].isnull().any():\n",
    "        df_clean[col] = df_airline_delays[col].fillna(df_airline_delays[col].median())\n",
    "\n",
    "# ----- Cleaning of categorical columns -----         \n",
    "\n",
    "df_clean = df_airline_delays.dropna(subset=[\n",
    "    \"arr_flights\", \"arr_del15\", \"carrier_ct\", \"weather_ct\", \n",
    "    \"nas_ct\", \"security_ct\", \"late_aircraft_ct\", \"arr_cancelled\", \n",
    "    \"arr_diverted\", \"arr_delay\", \"carrier_delay\", \"weather_delay\", \n",
    "    \"nas_delay\", \"security_delay\", \"late_aircraft_delay\"\n",
    "])"
   ]
  },
  {
   "cell_type": "code",
   "execution_count": 8,
   "id": "0655ea82",
   "metadata": {},
   "outputs": [
    {
     "name": "stdout",
     "output_type": "stream",
     "text": [
      "\n",
      "══════════════════════════════════════════════════\n",
      "CHECKING FOR NAN VALUES AFTER CLEANUP:\n",
      "══════════════════════════════════════════════════\n",
      "year                   0\n",
      "month                  0\n",
      "carrier                0\n",
      "carrier_name           0\n",
      "airport                0\n",
      "airport_name           0\n",
      "arr_flights            0\n",
      "arr_del15              0\n",
      "carrier_ct             0\n",
      "weather_ct             0\n",
      "nas_ct                 0\n",
      "security_ct            0\n",
      "late_aircraft_ct       0\n",
      "arr_cancelled          0\n",
      "arr_diverted           0\n",
      "arr_delay              0\n",
      "carrier_delay          0\n",
      "weather_delay          0\n",
      "nas_delay              0\n",
      "security_delay         0\n",
      "late_aircraft_delay    0\n",
      "dtype: int64\n"
     ]
    }
   ],
   "source": [
    "# -----------------------------------------------\n",
    "# Checking for NaN values ​​after cleanup\n",
    "# -----------------------------------------------\n",
    "print(\"\\n\" + \"═\" * 50)\n",
    "print(\"CHECKING FOR NAN VALUES AFTER CLEANUP:\")\n",
    "print(\"═\" * 50)\n",
    "\n",
    "missing_after = df_clean.isnull().sum()\n",
    "print(missing_after)"
   ]
  },
  {
   "cell_type": "code",
   "execution_count": 9,
   "id": "bb56c563",
   "metadata": {},
   "outputs": [
    {
     "name": "stdout",
     "output_type": "stream",
     "text": [
      "Index(['year', 'month', 'carrier', 'carrier_name', 'airport', 'airport_name',\n",
      "       'arr_flights', 'arr_del15', 'carrier_ct', 'weather_ct', 'nas_ct',\n",
      "       'security_ct', 'late_aircraft_ct', 'arr_cancelled', 'arr_diverted',\n",
      "       'arr_delay', 'carrier_delay', 'weather_delay', 'nas_delay',\n",
      "       'security_delay', 'late_aircraft_delay'],\n",
      "      dtype='object')\n"
     ]
    }
   ],
   "source": [
    "print(df_clean.columns)\n"
   ]
  },
  {
   "cell_type": "code",
   "execution_count": 10,
   "id": "808aea87",
   "metadata": {},
   "outputs": [
    {
     "data": {
      "application/vnd.plotly.v1+json": {
       "config": {
        "plotlyServerURL": "https://plot.ly"
       },
       "data": [
        {
         "coloraxis": "coloraxis",
         "hovertemplate": "x: %{x}<br>y: %{y}<br>color: %{z}<extra></extra>",
         "name": "0",
         "texttemplate": "%{z:.2f}",
         "type": "heatmap",
         "x": [
          "arr_flights",
          "arr_del15",
          "carrier_ct",
          "weather_ct",
          "nas_ct",
          "security_ct",
          "late_aircraft_ct",
          "arr_cancelled",
          "arr_delay",
          "carrier_delay",
          "weather_delay",
          "nas_delay",
          "security_delay",
          "late_aircraft_delay"
         ],
         "xaxis": "x",
         "y": [
          "arr_flights",
          "arr_del15",
          "carrier_ct",
          "weather_ct",
          "nas_ct",
          "security_ct",
          "late_aircraft_ct",
          "arr_cancelled",
          "arr_delay",
          "carrier_delay",
          "weather_delay",
          "nas_delay",
          "security_delay",
          "late_aircraft_delay"
         ],
         "yaxis": "y",
         "z": {
          "bdata": "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",
          "dtype": "f8",
          "shape": "14, 14"
         }
        }
       ],
       "layout": {
        "coloraxis": {
         "cmax": 1,
         "cmin": -1,
         "colorscale": [
          [
           0,
           "rgb(103,0,31)"
          ],
          [
           0.1,
           "rgb(178,24,43)"
          ],
          [
           0.2,
           "rgb(214,96,77)"
          ],
          [
           0.3,
           "rgb(244,165,130)"
          ],
          [
           0.4,
           "rgb(253,219,199)"
          ],
          [
           0.5,
           "rgb(247,247,247)"
          ],
          [
           0.6,
           "rgb(209,229,240)"
          ],
          [
           0.7,
           "rgb(146,197,222)"
          ],
          [
           0.8,
           "rgb(67,147,195)"
          ],
          [
           0.9,
           "rgb(33,102,172)"
          ],
          [
           1,
           "rgb(5,48,97)"
          ]
         ]
        },
        "paper_bgcolor": "lightgray",
        "plot_bgcolor": "white",
        "template": {
         "data": {
          "bar": [
           {
            "error_x": {
             "color": "#2a3f5f"
            },
            "error_y": {
             "color": "#2a3f5f"
            },
            "marker": {
             "line": {
              "color": "#E5ECF6",
              "width": 0.5
             },
             "pattern": {
              "fillmode": "overlay",
              "size": 10,
              "solidity": 0.2
             }
            },
            "type": "bar"
           }
          ],
          "barpolar": [
           {
            "marker": {
             "line": {
              "color": "#E5ECF6",
              "width": 0.5
             },
             "pattern": {
              "fillmode": "overlay",
              "size": 10,
              "solidity": 0.2
             }
            },
            "type": "barpolar"
           }
          ],
          "carpet": [
           {
            "aaxis": {
             "endlinecolor": "#2a3f5f",
             "gridcolor": "white",
             "linecolor": "white",
             "minorgridcolor": "white",
             "startlinecolor": "#2a3f5f"
            },
            "baxis": {
             "endlinecolor": "#2a3f5f",
             "gridcolor": "white",
             "linecolor": "white",
             "minorgridcolor": "white",
             "startlinecolor": "#2a3f5f"
            },
            "type": "carpet"
           }
          ],
          "choropleth": [
           {
            "colorbar": {
             "outlinewidth": 0,
             "ticks": ""
            },
            "type": "choropleth"
           }
          ],
          "contour": [
           {
            "colorbar": {
             "outlinewidth": 0,
             "ticks": ""
            },
            "colorscale": [
             [
              0,
              "#0d0887"
             ],
             [
              0.1111111111111111,
              "#46039f"
             ],
             [
              0.2222222222222222,
              "#7201a8"
             ],
             [
              0.3333333333333333,
              "#9c179e"
             ],
             [
              0.4444444444444444,
              "#bd3786"
             ],
             [
              0.5555555555555556,
              "#d8576b"
             ],
             [
              0.6666666666666666,
              "#ed7953"
             ],
             [
              0.7777777777777778,
              "#fb9f3a"
             ],
             [
              0.8888888888888888,
              "#fdca26"
             ],
             [
              1,
              "#f0f921"
             ]
            ],
            "type": "contour"
           }
          ],
          "contourcarpet": [
           {
            "colorbar": {
             "outlinewidth": 0,
             "ticks": ""
            },
            "type": "contourcarpet"
           }
          ],
          "heatmap": [
           {
            "colorbar": {
             "outlinewidth": 0,
             "ticks": ""
            },
            "colorscale": [
             [
              0,
              "#0d0887"
             ],
             [
              0.1111111111111111,
              "#46039f"
             ],
             [
              0.2222222222222222,
              "#7201a8"
             ],
             [
              0.3333333333333333,
              "#9c179e"
             ],
             [
              0.4444444444444444,
              "#bd3786"
             ],
             [
              0.5555555555555556,
              "#d8576b"
             ],
             [
              0.6666666666666666,
              "#ed7953"
             ],
             [
              0.7777777777777778,
              "#fb9f3a"
             ],
             [
              0.8888888888888888,
              "#fdca26"
             ],
             [
              1,
              "#f0f921"
             ]
            ],
            "type": "heatmap"
           }
          ],
          "histogram": [
           {
            "marker": {
             "pattern": {
              "fillmode": "overlay",
              "size": 10,
              "solidity": 0.2
             }
            },
            "type": "histogram"
           }
          ],
          "histogram2d": [
           {
            "colorbar": {
             "outlinewidth": 0,
             "ticks": ""
            },
            "colorscale": [
             [
              0,
              "#0d0887"
             ],
             [
              0.1111111111111111,
              "#46039f"
             ],
             [
              0.2222222222222222,
              "#7201a8"
             ],
             [
              0.3333333333333333,
              "#9c179e"
             ],
             [
              0.4444444444444444,
              "#bd3786"
             ],
             [
              0.5555555555555556,
              "#d8576b"
             ],
             [
              0.6666666666666666,
              "#ed7953"
             ],
             [
              0.7777777777777778,
              "#fb9f3a"
             ],
             [
              0.8888888888888888,
              "#fdca26"
             ],
             [
              1,
              "#f0f921"
             ]
            ],
            "type": "histogram2d"
           }
          ],
          "histogram2dcontour": [
           {
            "colorbar": {
             "outlinewidth": 0,
             "ticks": ""
            },
            "colorscale": [
             [
              0,
              "#0d0887"
             ],
             [
              0.1111111111111111,
              "#46039f"
             ],
             [
              0.2222222222222222,
              "#7201a8"
             ],
             [
              0.3333333333333333,
              "#9c179e"
             ],
             [
              0.4444444444444444,
              "#bd3786"
             ],
             [
              0.5555555555555556,
              "#d8576b"
             ],
             [
              0.6666666666666666,
              "#ed7953"
             ],
             [
              0.7777777777777778,
              "#fb9f3a"
             ],
             [
              0.8888888888888888,
              "#fdca26"
             ],
             [
              1,
              "#f0f921"
             ]
            ],
            "type": "histogram2dcontour"
           }
          ],
          "mesh3d": [
           {
            "colorbar": {
             "outlinewidth": 0,
             "ticks": ""
            },
            "type": "mesh3d"
           }
          ],
          "parcoords": [
           {
            "line": {
             "colorbar": {
              "outlinewidth": 0,
              "ticks": ""
             }
            },
            "type": "parcoords"
           }
          ],
          "pie": [
           {
            "automargin": true,
            "type": "pie"
           }
          ],
          "scatter": [
           {
            "fillpattern": {
             "fillmode": "overlay",
             "size": 10,
             "solidity": 0.2
            },
            "type": "scatter"
           }
          ],
          "scatter3d": [
           {
            "line": {
             "colorbar": {
              "outlinewidth": 0,
              "ticks": ""
             }
            },
            "marker": {
             "colorbar": {
              "outlinewidth": 0,
              "ticks": ""
             }
            },
            "type": "scatter3d"
           }
          ],
          "scattercarpet": [
           {
            "marker": {
             "colorbar": {
              "outlinewidth": 0,
              "ticks": ""
             }
            },
            "type": "scattercarpet"
           }
          ],
          "scattergeo": [
           {
            "marker": {
             "colorbar": {
              "outlinewidth": 0,
              "ticks": ""
             }
            },
            "type": "scattergeo"
           }
          ],
          "scattergl": [
           {
            "marker": {
             "colorbar": {
              "outlinewidth": 0,
              "ticks": ""
             }
            },
            "type": "scattergl"
           }
          ],
          "scattermap": [
           {
            "marker": {
             "colorbar": {
              "outlinewidth": 0,
              "ticks": ""
             }
            },
            "type": "scattermap"
           }
          ],
          "scattermapbox": [
           {
            "marker": {
             "colorbar": {
              "outlinewidth": 0,
              "ticks": ""
             }
            },
            "type": "scattermapbox"
           }
          ],
          "scatterpolar": [
           {
            "marker": {
             "colorbar": {
              "outlinewidth": 0,
              "ticks": ""
             }
            },
            "type": "scatterpolar"
           }
          ],
          "scatterpolargl": [
           {
            "marker": {
             "colorbar": {
              "outlinewidth": 0,
              "ticks": ""
             }
            },
            "type": "scatterpolargl"
           }
          ],
          "scatterternary": [
           {
            "marker": {
             "colorbar": {
              "outlinewidth": 0,
              "ticks": ""
             }
            },
            "type": "scatterternary"
           }
          ],
          "surface": [
           {
            "colorbar": {
             "outlinewidth": 0,
             "ticks": ""
            },
            "colorscale": [
             [
              0,
              "#0d0887"
             ],
             [
              0.1111111111111111,
              "#46039f"
             ],
             [
              0.2222222222222222,
              "#7201a8"
             ],
             [
              0.3333333333333333,
              "#9c179e"
             ],
             [
              0.4444444444444444,
              "#bd3786"
             ],
             [
              0.5555555555555556,
              "#d8576b"
             ],
             [
              0.6666666666666666,
              "#ed7953"
             ],
             [
              0.7777777777777778,
              "#fb9f3a"
             ],
             [
              0.8888888888888888,
              "#fdca26"
             ],
             [
              1,
              "#f0f921"
             ]
            ],
            "type": "surface"
           }
          ],
          "table": [
           {
            "cells": {
             "fill": {
              "color": "#EBF0F8"
             },
             "line": {
              "color": "white"
             }
            },
            "header": {
             "fill": {
              "color": "#C8D4E3"
             },
             "line": {
              "color": "white"
             }
            },
            "type": "table"
           }
          ]
         },
         "layout": {
          "annotationdefaults": {
           "arrowcolor": "#2a3f5f",
           "arrowhead": 0,
           "arrowwidth": 1
          },
          "autotypenumbers": "strict",
          "coloraxis": {
           "colorbar": {
            "outlinewidth": 0,
            "ticks": ""
           }
          },
          "colorscale": {
           "diverging": [
            [
             0,
             "#8e0152"
            ],
            [
             0.1,
             "#c51b7d"
            ],
            [
             0.2,
             "#de77ae"
            ],
            [
             0.3,
             "#f1b6da"
            ],
            [
             0.4,
             "#fde0ef"
            ],
            [
             0.5,
             "#f7f7f7"
            ],
            [
             0.6,
             "#e6f5d0"
            ],
            [
             0.7,
             "#b8e186"
            ],
            [
             0.8,
             "#7fbc41"
            ],
            [
             0.9,
             "#4d9221"
            ],
            [
             1,
             "#276419"
            ]
           ],
           "sequential": [
            [
             0,
             "#0d0887"
            ],
            [
             0.1111111111111111,
             "#46039f"
            ],
            [
             0.2222222222222222,
             "#7201a8"
            ],
            [
             0.3333333333333333,
             "#9c179e"
            ],
            [
             0.4444444444444444,
             "#bd3786"
            ],
            [
             0.5555555555555556,
             "#d8576b"
            ],
            [
             0.6666666666666666,
             "#ed7953"
            ],
            [
             0.7777777777777778,
             "#fb9f3a"
            ],
            [
             0.8888888888888888,
             "#fdca26"
            ],
            [
             1,
             "#f0f921"
            ]
           ],
           "sequentialminus": [
            [
             0,
             "#0d0887"
            ],
            [
             0.1111111111111111,
             "#46039f"
            ],
            [
             0.2222222222222222,
             "#7201a8"
            ],
            [
             0.3333333333333333,
             "#9c179e"
            ],
            [
             0.4444444444444444,
             "#bd3786"
            ],
            [
             0.5555555555555556,
             "#d8576b"
            ],
            [
             0.6666666666666666,
             "#ed7953"
            ],
            [
             0.7777777777777778,
             "#fb9f3a"
            ],
            [
             0.8888888888888888,
             "#fdca26"
            ],
            [
             1,
             "#f0f921"
            ]
           ]
          },
          "colorway": [
           "#636efa",
           "#EF553B",
           "#00cc96",
           "#ab63fa",
           "#FFA15A",
           "#19d3f3",
           "#FF6692",
           "#B6E880",
           "#FF97FF",
           "#FECB52"
          ],
          "font": {
           "color": "#2a3f5f"
          },
          "geo": {
           "bgcolor": "white",
           "lakecolor": "white",
           "landcolor": "#E5ECF6",
           "showlakes": true,
           "showland": true,
           "subunitcolor": "white"
          },
          "hoverlabel": {
           "align": "left"
          },
          "hovermode": "closest",
          "mapbox": {
           "style": "light"
          },
          "paper_bgcolor": "white",
          "plot_bgcolor": "#E5ECF6",
          "polar": {
           "angularaxis": {
            "gridcolor": "white",
            "linecolor": "white",
            "ticks": ""
           },
           "bgcolor": "#E5ECF6",
           "radialaxis": {
            "gridcolor": "white",
            "linecolor": "white",
            "ticks": ""
           }
          },
          "scene": {
           "xaxis": {
            "backgroundcolor": "#E5ECF6",
            "gridcolor": "white",
            "gridwidth": 2,
            "linecolor": "white",
            "showbackground": true,
            "ticks": "",
            "zerolinecolor": "white"
           },
           "yaxis": {
            "backgroundcolor": "#E5ECF6",
            "gridcolor": "white",
            "gridwidth": 2,
            "linecolor": "white",
            "showbackground": true,
            "ticks": "",
            "zerolinecolor": "white"
           },
           "zaxis": {
            "backgroundcolor": "#E5ECF6",
            "gridcolor": "white",
            "gridwidth": 2,
            "linecolor": "white",
            "showbackground": true,
            "ticks": "",
            "zerolinecolor": "white"
           }
          },
          "shapedefaults": {
           "line": {
            "color": "#2a3f5f"
           }
          },
          "ternary": {
           "aaxis": {
            "gridcolor": "white",
            "linecolor": "white",
            "ticks": ""
           },
           "baxis": {
            "gridcolor": "white",
            "linecolor": "white",
            "ticks": ""
           },
           "bgcolor": "#E5ECF6",
           "caxis": {
            "gridcolor": "white",
            "linecolor": "white",
            "ticks": ""
           }
          },
          "title": {
           "x": 0.05
          },
          "xaxis": {
           "automargin": true,
           "gridcolor": "white",
           "linecolor": "white",
           "ticks": "",
           "title": {
            "standoff": 15
           },
           "zerolinecolor": "white",
           "zerolinewidth": 2
          },
          "yaxis": {
           "automargin": true,
           "gridcolor": "white",
           "linecolor": "white",
           "ticks": "",
           "title": {
            "standoff": 15
           },
           "zerolinecolor": "white",
           "zerolinewidth": 2
          }
         }
        },
        "title": {
         "text": "Correlation Matrix Heatmap"
        },
        "xaxis": {
         "anchor": "y",
         "domain": [
          0,
          1
         ]
        },
        "yaxis": {
         "anchor": "x",
         "autorange": "reversed",
         "domain": [
          0,
          1
         ]
        }
       }
      }
     },
     "metadata": {},
     "output_type": "display_data"
    }
   ],
   "source": [
    "# -----------------------------------------------\n",
    "# Correlation matrix and heatmap visualization\n",
    "# -----------------------------------------------\n",
    "\n",
    "# ----- Select numeric columns ----- \n",
    "numeric_cols = df_clean.select_dtypes(include='number')\n",
    "\n",
    "\n",
    "# ----- Compute correlation ----- \n",
    "correlation_matrix = numeric_cols.corr()\n",
    "\n",
    "\n",
    "#  -----Filter strong correlations (0.7 < abs(corr) < 1) ----- \n",
    "abs_corr = correlation_matrix.abs()\n",
    "top_cols = abs_corr[(abs_corr > 0.7) & (abs_corr < 1.0)] \\\n",
    "    .dropna(axis=0, how='all') \\\n",
    "    .dropna(axis=1, how='all') \\\n",
    "    .columns\n",
    "filtered_corr = numeric_cols[top_cols].corr() if len(top_cols) > 0 else correlation_matrix\n",
    "\n",
    "\n",
    "# ----- Plotly heatmap ----- \n",
    "fig = px.imshow(\n",
    "    filtered_corr,\n",
    "    text_auto=\".2f\",\n",
    "    color_continuous_scale=\"RdBu\",\n",
    "    zmin=-1,\n",
    "    zmax=1,\n",
    "    aspect=\"auto\",\n",
    "    title=\"Correlation Matrix Heatmap\"\n",
    ")\n",
    "\n",
    "fig.update_layout(\n",
    "    plot_bgcolor=\"white\",\n",
    "    paper_bgcolor=\"lightgray\"\n",
    ")\n",
    "\n",
    "fig.show()\n"
   ]
  },
  {
   "cell_type": "code",
   "execution_count": 11,
   "id": "25155680",
   "metadata": {},
   "outputs": [
    {
     "name": "stdout",
     "output_type": "stream",
     "text": [
      "\n",
      "══════════════════════════════════════════════════\n",
      "STRONGEST CORRELATIONS:\n",
      "══════════════════════════════════════════════════\n",
      "late_aircraft_ct     late_aircraft_delay    0.962579\n",
      "late_aircraft_delay  late_aircraft_ct       0.962579\n",
      "arr_delay            arr_del15              0.960250\n",
      "arr_del15            arr_delay              0.960250\n",
      "late_aircraft_ct     arr_del15              0.949273\n",
      "arr_del15            late_aircraft_ct       0.949273\n",
      "arr_delay            late_aircraft_delay    0.948945\n",
      "late_aircraft_delay  arr_delay              0.948945\n",
      "arr_flights          arr_del15              0.928553\n",
      "arr_del15            arr_flights            0.928553\n",
      "dtype: float64\n"
     ]
    }
   ],
   "source": [
    "# -----------------------------------------\n",
    "# Display of the strongest correlations\n",
    "# ----------------------------------------\n",
    "print(\"\\n\" + \"═\" * 50)\n",
    "print(\"STRONGEST CORRELATIONS:\")\n",
    "print(\"═\" * 50)\n",
    "\n",
    "\n",
    "corr_pairs = correlation_matrix.unstack().sort_values(key=abs, ascending=False)\n",
    "corr_pairs = corr_pairs[corr_pairs != 1.0]  \n",
    "print(corr_pairs.head(10))\n"
   ]
  },
  {
   "cell_type": "code",
   "execution_count": 12,
   "id": "d957446c",
   "metadata": {},
   "outputs": [],
   "source": [
    "# ----------------------------------------\n",
    "# Define delay types for count analysis\n",
    "# ----------------------------------------\n",
    "delay_count_columns = ['carrier_ct', 'weather_ct', 'nas_ct', 'security_ct', 'late_aircraft_ct']"
   ]
  },
  {
   "cell_type": "code",
   "execution_count": 13,
   "id": "86637526",
   "metadata": {},
   "outputs": [
    {
     "name": "stdout",
     "output_type": "stream",
     "text": [
      "Airlines with Highest Delay Rates (min 100 flights):\n",
      "carrier_name\n",
      "JetBlue Airways            0.273524\n",
      "Allegiant Air              0.264285\n",
      "ExpressJet Airlines LLC    0.248437\n",
      "Mesa Airlines Inc.         0.237746\n",
      "PSA Airlines Inc.          0.214595\n",
      "Frontier Airlines Inc.     0.188769\n",
      "Alaska Airlines Inc.       0.178865\n",
      "Envoy Air                  0.171796\n",
      "Southwest Airlines Co.     0.167964\n",
      "United Air Lines Inc.      0.165303\n",
      "Name: delay_rate, dtype: float64\n",
      "\n",
      "Airports with Highest Delay Rates (min 100 flights):\n",
      "airport_name\n",
      "Concord, NC: Concord Padgett Regional                                     0.418605\n",
      "Redding, CA: Redding Municipal                                            0.322581\n",
      "Bakersfield, CA: Meadows Field                                            0.314571\n",
      "Aguadilla, PR: Rafael Hernandez                                           0.298507\n",
      "Akron, OH: Akron-Canton Regional                                          0.295359\n",
      "Trenton, NJ: Trenton Mercer                                               0.294326\n",
      "Newport News/Williamsburg, VA: Newport News/Williamsburg International    0.283333\n",
      "Aspen, CO: Aspen Pitkin County Sardy Field                                0.281091\n",
      "State College, PA: University Park                                        0.266055\n",
      "Phoenix, AZ: Phoenix - Mesa Gateway                                       0.265490\n",
      "Name: delay_rate, dtype: float64\n",
      "\n",
      "Primary Delay Type by Airline:\n",
      "Alaska Airlines Inc.: nas_ct\n",
      "Allegiant Air: late_aircraft_ct\n",
      "American Airlines Inc.: nas_ct\n",
      "Delta Air Lines Inc.: nas_ct\n",
      "Endeavor Air Inc.: late_aircraft_ct\n",
      "Envoy Air: nas_ct\n",
      "ExpressJet Airlines LLC: nas_ct\n",
      "Frontier Airlines Inc.: nas_ct\n",
      "Hawaiian Airlines Inc.: carrier_ct\n",
      "JetBlue Airways: carrier_ct\n",
      "Mesa Airlines Inc.: late_aircraft_ct\n",
      "PSA Airlines Inc.: late_aircraft_ct\n",
      "Republic Airline: nas_ct\n",
      "SkyWest Airlines Inc.: carrier_ct\n",
      "Southwest Airlines Co.: late_aircraft_ct\n",
      "Spirit Air Lines: nas_ct\n",
      "United Air Lines Inc.: nas_ct\n",
      "\n",
      "Total Flights: 997,120.0\n",
      "Total Delayed Flights: 170,477.0\n",
      "Overall Delay Rate: 17.10%\n"
     ]
    }
   ],
   "source": [
    "# ------------------------\n",
    "# Summary statistics\n",
    "# -------------------------\n",
    "\n",
    "# Ensure df_clean is a proper copy\n",
    "# -----------------------------------------\n",
    "df_clean = df_clean.copy()\n",
    "\n",
    "# ----- Calculate delay rate ----- \n",
    "df_clean['delay_rate'] = df_clean['arr_del15'] / df_clean['arr_flights']\n",
    "\n",
    "\n",
    "# ----- Calculate delay rate----- \n",
    "df_clean['delay_rate'] = df_clean['arr_del15'] / df_clean['arr_flights']\n",
    "\n",
    "# ----- Airlines with highest delay rate (with minimum 100 flights for significance)----- \n",
    "significant_airlines = df_clean[df_clean['arr_flights'] >= 100]\n",
    "airline_delay_rates = significant_airlines.groupby('carrier_name')['delay_rate'].mean().sort_values(ascending=False)\n",
    "\n",
    "print(\"Airlines with Highest Delay Rates (min 100 flights):\")\n",
    "print(airline_delay_rates.head(10))\n",
    "\n",
    "# ----- Airports with highest delay rate ----- \n",
    "significant_airports = df_clean[df_clean['arr_flights'] >= 100]\n",
    "airport_delay_rates = significant_airports.groupby('airport_name')['delay_rate'].mean().sort_values(ascending=False)\n",
    "\n",
    "print(\"\\nAirports with Highest Delay Rates (min 100 flights):\")\n",
    "print(airport_delay_rates.head(10))\n",
    "\n",
    "\n",
    "# ----- Define the correct delay count columns ----- \n",
    "delay_count_columns = ['carrier_ct', 'weather_ct', 'nas_ct', 'security_ct', 'late_aircraft_ct']\n",
    "\n",
    "# ----- Most common delay type by airline ----- \n",
    "delay_by_airline = df_clean.groupby('carrier_name')[delay_count_columns].sum()\n",
    "delay_by_airline['total_delays'] = delay_by_airline.sum(axis=1)\n",
    "\n",
    "for delay_type in delay_count_columns:\n",
    "    delay_by_airline[f'{delay_type}_pct'] = delay_by_airline[delay_type] / delay_by_airline['total_delays']\n",
    "\n",
    "print(\"\\nPrimary Delay Type by Airline:\")\n",
    "for airline in delay_by_airline.index:\n",
    "    pct_columns = [f'{dt}_pct' for dt in delay_count_columns]\n",
    "    primary_delay = delay_by_airline.loc[airline, pct_columns].idxmax()\n",
    "    primary_delay = primary_delay.replace('_pct', '')\n",
    "    print(f\"{airline}: {primary_delay}\")\n",
    "\n",
    "# ----- Summary statistics ----- \n",
    "print(f\"\\nTotal Flights: {df_clean['arr_flights'].sum():,}\")\n",
    "print(f\"Total Delayed Flights: {df_clean['arr_del15'].sum():,}\")\n",
    "print(f\"Overall Delay Rate: {df_clean['arr_del15'].sum()/df_clean['arr_flights'].sum()*100:.2f}%\")\n"
   ]
  },
  {
   "cell_type": "code",
   "execution_count": 14,
   "id": "b097f576",
   "metadata": {},
   "outputs": [
    {
     "data": {
      "application/vnd.plotly.v1+json": {
       "config": {
        "plotlyServerURL": "https://plot.ly"
       },
       "data": [
        {
         "marker": {
          "color": {
           "bdata": "ff+yu2mB0T/dDy0OCurQPxRXq8HJzM8//euOCXRuzj9V1/9V2nfLP1YHSu2RKcg/NdZnOwjlxj9vMDSTav3FP38BK/Lbf8U/vASE1qcoxT8=",
           "dtype": "f8"
          },
          "colorscale": [
           [
            0,
            "rgb(255,245,240)"
           ],
           [
            0.125,
            "rgb(254,224,210)"
           ],
           [
            0.25,
            "rgb(252,187,161)"
           ],
           [
            0.375,
            "rgb(252,146,114)"
           ],
           [
            0.5,
            "rgb(251,106,74)"
           ],
           [
            0.625,
            "rgb(239,59,44)"
           ],
           [
            0.75,
            "rgb(203,24,29)"
           ],
           [
            0.875,
            "rgb(165,15,21)"
           ],
           [
            1,
            "rgb(103,0,13)"
           ]
          ]
         },
         "name": "Airlines",
         "orientation": "h",
         "type": "bar",
         "x": {
          "bdata": "ff+yu2mB0T/dDy0OCurQPxRXq8HJzM8//euOCXRuzj9V1/9V2nfLP1YHSu2RKcg/NdZnOwjlxj9vMDSTav3FP38BK/Lbf8U/vASE1qcoxT8=",
          "dtype": "f8"
         },
         "y": [
          "JetBlue Airways",
          "Allegiant Air",
          "ExpressJet Airlines LLC",
          "Mesa Airlines Inc.",
          "PSA Airlines Inc.",
          "Frontier Airlines Inc.",
          "Alaska Airlines Inc.",
          "Envoy Air",
          "Southwest Airlines Co.",
          "United Air Lines Inc."
         ]
        }
       ],
       "layout": {
        "paper_bgcolor": "lightgray",
        "plot_bgcolor": "lightgray",
        "template": {
         "data": {
          "bar": [
           {
            "error_x": {
             "color": "#2a3f5f"
            },
            "error_y": {
             "color": "#2a3f5f"
            },
            "marker": {
             "line": {
              "color": "#E5ECF6",
              "width": 0.5
             },
             "pattern": {
              "fillmode": "overlay",
              "size": 10,
              "solidity": 0.2
             }
            },
            "type": "bar"
           }
          ],
          "barpolar": [
           {
            "marker": {
             "line": {
              "color": "#E5ECF6",
              "width": 0.5
             },
             "pattern": {
              "fillmode": "overlay",
              "size": 10,
              "solidity": 0.2
             }
            },
            "type": "barpolar"
           }
          ],
          "carpet": [
           {
            "aaxis": {
             "endlinecolor": "#2a3f5f",
             "gridcolor": "white",
             "linecolor": "white",
             "minorgridcolor": "white",
             "startlinecolor": "#2a3f5f"
            },
            "baxis": {
             "endlinecolor": "#2a3f5f",
             "gridcolor": "white",
             "linecolor": "white",
             "minorgridcolor": "white",
             "startlinecolor": "#2a3f5f"
            },
            "type": "carpet"
           }
          ],
          "choropleth": [
           {
            "colorbar": {
             "outlinewidth": 0,
             "ticks": ""
            },
            "type": "choropleth"
           }
          ],
          "contour": [
           {
            "colorbar": {
             "outlinewidth": 0,
             "ticks": ""
            },
            "colorscale": [
             [
              0,
              "#0d0887"
             ],
             [
              0.1111111111111111,
              "#46039f"
             ],
             [
              0.2222222222222222,
              "#7201a8"
             ],
             [
              0.3333333333333333,
              "#9c179e"
             ],
             [
              0.4444444444444444,
              "#bd3786"
             ],
             [
              0.5555555555555556,
              "#d8576b"
             ],
             [
              0.6666666666666666,
              "#ed7953"
             ],
             [
              0.7777777777777778,
              "#fb9f3a"
             ],
             [
              0.8888888888888888,
              "#fdca26"
             ],
             [
              1,
              "#f0f921"
             ]
            ],
            "type": "contour"
           }
          ],
          "contourcarpet": [
           {
            "colorbar": {
             "outlinewidth": 0,
             "ticks": ""
            },
            "type": "contourcarpet"
           }
          ],
          "heatmap": [
           {
            "colorbar": {
             "outlinewidth": 0,
             "ticks": ""
            },
            "colorscale": [
             [
              0,
              "#0d0887"
             ],
             [
              0.1111111111111111,
              "#46039f"
             ],
             [
              0.2222222222222222,
              "#7201a8"
             ],
             [
              0.3333333333333333,
              "#9c179e"
             ],
             [
              0.4444444444444444,
              "#bd3786"
             ],
             [
              0.5555555555555556,
              "#d8576b"
             ],
             [
              0.6666666666666666,
              "#ed7953"
             ],
             [
              0.7777777777777778,
              "#fb9f3a"
             ],
             [
              0.8888888888888888,
              "#fdca26"
             ],
             [
              1,
              "#f0f921"
             ]
            ],
            "type": "heatmap"
           }
          ],
          "histogram": [
           {
            "marker": {
             "pattern": {
              "fillmode": "overlay",
              "size": 10,
              "solidity": 0.2
             }
            },
            "type": "histogram"
           }
          ],
          "histogram2d": [
           {
            "colorbar": {
             "outlinewidth": 0,
             "ticks": ""
            },
            "colorscale": [
             [
              0,
              "#0d0887"
             ],
             [
              0.1111111111111111,
              "#46039f"
             ],
             [
              0.2222222222222222,
              "#7201a8"
             ],
             [
              0.3333333333333333,
              "#9c179e"
             ],
             [
              0.4444444444444444,
              "#bd3786"
             ],
             [
              0.5555555555555556,
              "#d8576b"
             ],
             [
              0.6666666666666666,
              "#ed7953"
             ],
             [
              0.7777777777777778,
              "#fb9f3a"
             ],
             [
              0.8888888888888888,
              "#fdca26"
             ],
             [
              1,
              "#f0f921"
             ]
            ],
            "type": "histogram2d"
           }
          ],
          "histogram2dcontour": [
           {
            "colorbar": {
             "outlinewidth": 0,
             "ticks": ""
            },
            "colorscale": [
             [
              0,
              "#0d0887"
             ],
             [
              0.1111111111111111,
              "#46039f"
             ],
             [
              0.2222222222222222,
              "#7201a8"
             ],
             [
              0.3333333333333333,
              "#9c179e"
             ],
             [
              0.4444444444444444,
              "#bd3786"
             ],
             [
              0.5555555555555556,
              "#d8576b"
             ],
             [
              0.6666666666666666,
              "#ed7953"
             ],
             [
              0.7777777777777778,
              "#fb9f3a"
             ],
             [
              0.8888888888888888,
              "#fdca26"
             ],
             [
              1,
              "#f0f921"
             ]
            ],
            "type": "histogram2dcontour"
           }
          ],
          "mesh3d": [
           {
            "colorbar": {
             "outlinewidth": 0,
             "ticks": ""
            },
            "type": "mesh3d"
           }
          ],
          "parcoords": [
           {
            "line": {
             "colorbar": {
              "outlinewidth": 0,
              "ticks": ""
             }
            },
            "type": "parcoords"
           }
          ],
          "pie": [
           {
            "automargin": true,
            "type": "pie"
           }
          ],
          "scatter": [
           {
            "fillpattern": {
             "fillmode": "overlay",
             "size": 10,
             "solidity": 0.2
            },
            "type": "scatter"
           }
          ],
          "scatter3d": [
           {
            "line": {
             "colorbar": {
              "outlinewidth": 0,
              "ticks": ""
             }
            },
            "marker": {
             "colorbar": {
              "outlinewidth": 0,
              "ticks": ""
             }
            },
            "type": "scatter3d"
           }
          ],
          "scattercarpet": [
           {
            "marker": {
             "colorbar": {
              "outlinewidth": 0,
              "ticks": ""
             }
            },
            "type": "scattercarpet"
           }
          ],
          "scattergeo": [
           {
            "marker": {
             "colorbar": {
              "outlinewidth": 0,
              "ticks": ""
             }
            },
            "type": "scattergeo"
           }
          ],
          "scattergl": [
           {
            "marker": {
             "colorbar": {
              "outlinewidth": 0,
              "ticks": ""
             }
            },
            "type": "scattergl"
           }
          ],
          "scattermap": [
           {
            "marker": {
             "colorbar": {
              "outlinewidth": 0,
              "ticks": ""
             }
            },
            "type": "scattermap"
           }
          ],
          "scattermapbox": [
           {
            "marker": {
             "colorbar": {
              "outlinewidth": 0,
              "ticks": ""
             }
            },
            "type": "scattermapbox"
           }
          ],
          "scatterpolar": [
           {
            "marker": {
             "colorbar": {
              "outlinewidth": 0,
              "ticks": ""
             }
            },
            "type": "scatterpolar"
           }
          ],
          "scatterpolargl": [
           {
            "marker": {
             "colorbar": {
              "outlinewidth": 0,
              "ticks": ""
             }
            },
            "type": "scatterpolargl"
           }
          ],
          "scatterternary": [
           {
            "marker": {
             "colorbar": {
              "outlinewidth": 0,
              "ticks": ""
             }
            },
            "type": "scatterternary"
           }
          ],
          "surface": [
           {
            "colorbar": {
             "outlinewidth": 0,
             "ticks": ""
            },
            "colorscale": [
             [
              0,
              "#0d0887"
             ],
             [
              0.1111111111111111,
              "#46039f"
             ],
             [
              0.2222222222222222,
              "#7201a8"
             ],
             [
              0.3333333333333333,
              "#9c179e"
             ],
             [
              0.4444444444444444,
              "#bd3786"
             ],
             [
              0.5555555555555556,
              "#d8576b"
             ],
             [
              0.6666666666666666,
              "#ed7953"
             ],
             [
              0.7777777777777778,
              "#fb9f3a"
             ],
             [
              0.8888888888888888,
              "#fdca26"
             ],
             [
              1,
              "#f0f921"
             ]
            ],
            "type": "surface"
           }
          ],
          "table": [
           {
            "cells": {
             "fill": {
              "color": "#EBF0F8"
             },
             "line": {
              "color": "white"
             }
            },
            "header": {
             "fill": {
              "color": "#C8D4E3"
             },
             "line": {
              "color": "white"
             }
            },
            "type": "table"
           }
          ]
         },
         "layout": {
          "annotationdefaults": {
           "arrowcolor": "#2a3f5f",
           "arrowhead": 0,
           "arrowwidth": 1
          },
          "autotypenumbers": "strict",
          "coloraxis": {
           "colorbar": {
            "outlinewidth": 0,
            "ticks": ""
           }
          },
          "colorscale": {
           "diverging": [
            [
             0,
             "#8e0152"
            ],
            [
             0.1,
             "#c51b7d"
            ],
            [
             0.2,
             "#de77ae"
            ],
            [
             0.3,
             "#f1b6da"
            ],
            [
             0.4,
             "#fde0ef"
            ],
            [
             0.5,
             "#f7f7f7"
            ],
            [
             0.6,
             "#e6f5d0"
            ],
            [
             0.7,
             "#b8e186"
            ],
            [
             0.8,
             "#7fbc41"
            ],
            [
             0.9,
             "#4d9221"
            ],
            [
             1,
             "#276419"
            ]
           ],
           "sequential": [
            [
             0,
             "#0d0887"
            ],
            [
             0.1111111111111111,
             "#46039f"
            ],
            [
             0.2222222222222222,
             "#7201a8"
            ],
            [
             0.3333333333333333,
             "#9c179e"
            ],
            [
             0.4444444444444444,
             "#bd3786"
            ],
            [
             0.5555555555555556,
             "#d8576b"
            ],
            [
             0.6666666666666666,
             "#ed7953"
            ],
            [
             0.7777777777777778,
             "#fb9f3a"
            ],
            [
             0.8888888888888888,
             "#fdca26"
            ],
            [
             1,
             "#f0f921"
            ]
           ],
           "sequentialminus": [
            [
             0,
             "#0d0887"
            ],
            [
             0.1111111111111111,
             "#46039f"
            ],
            [
             0.2222222222222222,
             "#7201a8"
            ],
            [
             0.3333333333333333,
             "#9c179e"
            ],
            [
             0.4444444444444444,
             "#bd3786"
            ],
            [
             0.5555555555555556,
             "#d8576b"
            ],
            [
             0.6666666666666666,
             "#ed7953"
            ],
            [
             0.7777777777777778,
             "#fb9f3a"
            ],
            [
             0.8888888888888888,
             "#fdca26"
            ],
            [
             1,
             "#f0f921"
            ]
           ]
          },
          "colorway": [
           "#636efa",
           "#EF553B",
           "#00cc96",
           "#ab63fa",
           "#FFA15A",
           "#19d3f3",
           "#FF6692",
           "#B6E880",
           "#FF97FF",
           "#FECB52"
          ],
          "font": {
           "color": "#2a3f5f"
          },
          "geo": {
           "bgcolor": "white",
           "lakecolor": "white",
           "landcolor": "#E5ECF6",
           "showlakes": true,
           "showland": true,
           "subunitcolor": "white"
          },
          "hoverlabel": {
           "align": "left"
          },
          "hovermode": "closest",
          "mapbox": {
           "style": "light"
          },
          "paper_bgcolor": "white",
          "plot_bgcolor": "#E5ECF6",
          "polar": {
           "angularaxis": {
            "gridcolor": "white",
            "linecolor": "white",
            "ticks": ""
           },
           "bgcolor": "#E5ECF6",
           "radialaxis": {
            "gridcolor": "white",
            "linecolor": "white",
            "ticks": ""
           }
          },
          "scene": {
           "xaxis": {
            "backgroundcolor": "#E5ECF6",
            "gridcolor": "white",
            "gridwidth": 2,
            "linecolor": "white",
            "showbackground": true,
            "ticks": "",
            "zerolinecolor": "white"
           },
           "yaxis": {
            "backgroundcolor": "#E5ECF6",
            "gridcolor": "white",
            "gridwidth": 2,
            "linecolor": "white",
            "showbackground": true,
            "ticks": "",
            "zerolinecolor": "white"
           },
           "zaxis": {
            "backgroundcolor": "#E5ECF6",
            "gridcolor": "white",
            "gridwidth": 2,
            "linecolor": "white",
            "showbackground": true,
            "ticks": "",
            "zerolinecolor": "white"
           }
          },
          "shapedefaults": {
           "line": {
            "color": "#2a3f5f"
           }
          },
          "ternary": {
           "aaxis": {
            "gridcolor": "white",
            "linecolor": "white",
            "ticks": ""
           },
           "baxis": {
            "gridcolor": "white",
            "linecolor": "white",
            "ticks": ""
           },
           "bgcolor": "#E5ECF6",
           "caxis": {
            "gridcolor": "white",
            "linecolor": "white",
            "ticks": ""
           }
          },
          "title": {
           "x": 0.05
          },
          "xaxis": {
           "automargin": true,
           "gridcolor": "white",
           "linecolor": "white",
           "ticks": "",
           "title": {
            "standoff": 15
           },
           "zerolinecolor": "white",
           "zerolinewidth": 2
          },
          "yaxis": {
           "automargin": true,
           "gridcolor": "white",
           "linecolor": "white",
           "ticks": "",
           "title": {
            "standoff": 15
           },
           "zerolinecolor": "white",
           "zerolinewidth": 2
          }
         }
        },
        "title": {
         "text": "Top 10 Airlines by Delay Rate"
        },
        "updatemenus": [
         {
          "active": 9,
          "buttons": [
           {
            "args": [
             {
              "marker.color": [
               [
                0.27352374391556805
               ]
              ],
              "x": [
               [
                0.27352374391556805
               ]
              ],
              "y": [
               [
                "JetBlue Airways"
               ]
              ]
             },
             {
              "title": "Top 1 Airlines by Delay Rate",
              "xaxis": {
               "title": "Delay Rate"
              },
              "yaxis": {
               "autorange": "reversed",
               "title": "Airline"
              }
             }
            ],
            "label": "Top 1",
            "method": "update"
           },
           {
            "args": [
             {
              "marker.color": [
               [
                0.27352374391556805,
                0.26428462395074154
               ]
              ],
              "x": [
               [
                0.27352374391556805,
                0.26428462395074154
               ]
              ],
              "y": [
               [
                "JetBlue Airways",
                "Allegiant Air"
               ]
              ]
             },
             {
              "title": "Top 2 Airlines by Delay Rate",
              "xaxis": {
               "title": "Delay Rate"
              },
              "yaxis": {
               "autorange": "reversed",
               "title": "Airline"
              }
             }
            ],
            "label": "Top 2",
            "method": "update"
           },
           {
            "args": [
             {
              "marker.color": [
               [
                0.27352374391556805,
                0.26428462395074154,
                0.24843713718899407
               ]
              ],
              "x": [
               [
                0.27352374391556805,
                0.26428462395074154,
                0.24843713718899407
               ]
              ],
              "y": [
               [
                "JetBlue Airways",
                "Allegiant Air",
                "ExpressJet Airlines LLC"
               ]
              ]
             },
             {
              "title": "Top 3 Airlines by Delay Rate",
              "xaxis": {
               "title": "Delay Rate"
              },
              "yaxis": {
               "autorange": "reversed",
               "title": "Airline"
              }
             }
            ],
            "label": "Top 3",
            "method": "update"
           },
           {
            "args": [
             {
              "marker.color": [
               [
                0.27352374391556805,
                0.26428462395074154,
                0.24843713718899407,
                0.23774576632226277
               ]
              ],
              "x": [
               [
                0.27352374391556805,
                0.26428462395074154,
                0.24843713718899407,
                0.23774576632226277
               ]
              ],
              "y": [
               [
                "JetBlue Airways",
                "Allegiant Air",
                "ExpressJet Airlines LLC",
                "Mesa Airlines Inc."
               ]
              ]
             },
             {
              "title": "Top 4 Airlines by Delay Rate",
              "xaxis": {
               "title": "Delay Rate"
              },
              "yaxis": {
               "autorange": "reversed",
               "title": "Airline"
              }
             }
            ],
            "label": "Top 4",
            "method": "update"
           },
           {
            "args": [
             {
              "marker.color": [
               [
                0.27352374391556805,
                0.26428462395074154,
                0.24843713718899407,
                0.23774576632226277,
                0.21459511946857882
               ]
              ],
              "x": [
               [
                0.27352374391556805,
                0.26428462395074154,
                0.24843713718899407,
                0.23774576632226277,
                0.21459511946857882
               ]
              ],
              "y": [
               [
                "JetBlue Airways",
                "Allegiant Air",
                "ExpressJet Airlines LLC",
                "Mesa Airlines Inc.",
                "PSA Airlines Inc."
               ]
              ]
             },
             {
              "title": "Top 5 Airlines by Delay Rate",
              "xaxis": {
               "title": "Delay Rate"
              },
              "yaxis": {
               "autorange": "reversed",
               "title": "Airline"
              }
             }
            ],
            "label": "Top 5",
            "method": "update"
           },
           {
            "args": [
             {
              "marker.color": [
               [
                0.27352374391556805,
                0.26428462395074154,
                0.24843713718899407,
                0.23774576632226277,
                0.21459511946857882,
                0.1887686165464923
               ]
              ],
              "x": [
               [
                0.27352374391556805,
                0.26428462395074154,
                0.24843713718899407,
                0.23774576632226277,
                0.21459511946857882,
                0.1887686165464923
               ]
              ],
              "y": [
               [
                "JetBlue Airways",
                "Allegiant Air",
                "ExpressJet Airlines LLC",
                "Mesa Airlines Inc.",
                "PSA Airlines Inc.",
                "Frontier Airlines Inc."
               ]
              ]
             },
             {
              "title": "Top 6 Airlines by Delay Rate",
              "xaxis": {
               "title": "Delay Rate"
              },
              "yaxis": {
               "autorange": "reversed",
               "title": "Airline"
              }
             }
            ],
            "label": "Top 6",
            "method": "update"
           },
           {
            "args": [
             {
              "marker.color": [
               [
                0.27352374391556805,
                0.26428462395074154,
                0.24843713718899407,
                0.23774576632226277,
                0.21459511946857882,
                0.1887686165464923,
                0.1788645067278353
               ]
              ],
              "x": [
               [
                0.27352374391556805,
                0.26428462395074154,
                0.24843713718899407,
                0.23774576632226277,
                0.21459511946857882,
                0.1887686165464923,
                0.1788645067278353
               ]
              ],
              "y": [
               [
                "JetBlue Airways",
                "Allegiant Air",
                "ExpressJet Airlines LLC",
                "Mesa Airlines Inc.",
                "PSA Airlines Inc.",
                "Frontier Airlines Inc.",
                "Alaska Airlines Inc."
               ]
              ]
             },
             {
              "title": "Top 7 Airlines by Delay Rate",
              "xaxis": {
               "title": "Delay Rate"
              },
              "yaxis": {
               "autorange": "reversed",
               "title": "Airline"
              }
             }
            ],
            "label": "Top 7",
            "method": "update"
           },
           {
            "args": [
             {
              "marker.color": [
               [
                0.27352374391556805,
                0.26428462395074154,
                0.24843713718899407,
                0.23774576632226277,
                0.21459511946857882,
                0.1887686165464923,
                0.1788645067278353,
                0.1717961519974582
               ]
              ],
              "x": [
               [
                0.27352374391556805,
                0.26428462395074154,
                0.24843713718899407,
                0.23774576632226277,
                0.21459511946857882,
                0.1887686165464923,
                0.1788645067278353,
                0.1717961519974582
               ]
              ],
              "y": [
               [
                "JetBlue Airways",
                "Allegiant Air",
                "ExpressJet Airlines LLC",
                "Mesa Airlines Inc.",
                "PSA Airlines Inc.",
                "Frontier Airlines Inc.",
                "Alaska Airlines Inc.",
                "Envoy Air"
               ]
              ]
             },
             {
              "title": "Top 8 Airlines by Delay Rate",
              "xaxis": {
               "title": "Delay Rate"
              },
              "yaxis": {
               "autorange": "reversed",
               "title": "Airline"
              }
             }
            ],
            "label": "Top 8",
            "method": "update"
           },
           {
            "args": [
             {
              "marker.color": [
               [
                0.27352374391556805,
                0.26428462395074154,
                0.24843713718899407,
                0.23774576632226277,
                0.21459511946857882,
                0.1887686165464923,
                0.1788645067278353,
                0.1717961519974582,
                0.16796445202454532
               ]
              ],
              "x": [
               [
                0.27352374391556805,
                0.26428462395074154,
                0.24843713718899407,
                0.23774576632226277,
                0.21459511946857882,
                0.1887686165464923,
                0.1788645067278353,
                0.1717961519974582,
                0.16796445202454532
               ]
              ],
              "y": [
               [
                "JetBlue Airways",
                "Allegiant Air",
                "ExpressJet Airlines LLC",
                "Mesa Airlines Inc.",
                "PSA Airlines Inc.",
                "Frontier Airlines Inc.",
                "Alaska Airlines Inc.",
                "Envoy Air",
                "Southwest Airlines Co."
               ]
              ]
             },
             {
              "title": "Top 9 Airlines by Delay Rate",
              "xaxis": {
               "title": "Delay Rate"
              },
              "yaxis": {
               "autorange": "reversed",
               "title": "Airline"
              }
             }
            ],
            "label": "Top 9",
            "method": "update"
           },
           {
            "args": [
             {
              "marker.color": [
               [
                0.27352374391556805,
                0.26428462395074154,
                0.24843713718899407,
                0.23774576632226277,
                0.21459511946857882,
                0.1887686165464923,
                0.1788645067278353,
                0.1717961519974582,
                0.16796445202454532,
                0.1653032109680107
               ]
              ],
              "x": [
               [
                0.27352374391556805,
                0.26428462395074154,
                0.24843713718899407,
                0.23774576632226277,
                0.21459511946857882,
                0.1887686165464923,
                0.1788645067278353,
                0.1717961519974582,
                0.16796445202454532,
                0.1653032109680107
               ]
              ],
              "y": [
               [
                "JetBlue Airways",
                "Allegiant Air",
                "ExpressJet Airlines LLC",
                "Mesa Airlines Inc.",
                "PSA Airlines Inc.",
                "Frontier Airlines Inc.",
                "Alaska Airlines Inc.",
                "Envoy Air",
                "Southwest Airlines Co.",
                "United Air Lines Inc."
               ]
              ]
             },
             {
              "title": "Top 10 Airlines by Delay Rate",
              "xaxis": {
               "title": "Delay Rate"
              },
              "yaxis": {
               "autorange": "reversed",
               "title": "Airline"
              }
             }
            ],
            "label": "Top 10",
            "method": "update"
           },
           {
            "args": [
             {
              "marker.color": [
               [
                0.27352374391556805,
                0.26428462395074154,
                0.24843713718899407,
                0.23774576632226277,
                0.21459511946857882,
                0.1887686165464923,
                0.1788645067278353,
                0.1717961519974582,
                0.16796445202454532,
                0.1653032109680107,
                0.1641993115472822
               ]
              ],
              "x": [
               [
                0.27352374391556805,
                0.26428462395074154,
                0.24843713718899407,
                0.23774576632226277,
                0.21459511946857882,
                0.1887686165464923,
                0.1788645067278353,
                0.1717961519974582,
                0.16796445202454532,
                0.1653032109680107,
                0.1641993115472822
               ]
              ],
              "y": [
               [
                "JetBlue Airways",
                "Allegiant Air",
                "ExpressJet Airlines LLC",
                "Mesa Airlines Inc.",
                "PSA Airlines Inc.",
                "Frontier Airlines Inc.",
                "Alaska Airlines Inc.",
                "Envoy Air",
                "Southwest Airlines Co.",
                "United Air Lines Inc.",
                "SkyWest Airlines Inc."
               ]
              ]
             },
             {
              "title": "Top 11 Airlines by Delay Rate",
              "xaxis": {
               "title": "Delay Rate"
              },
              "yaxis": {
               "autorange": "reversed",
               "title": "Airline"
              }
             }
            ],
            "label": "Top 11",
            "method": "update"
           },
           {
            "args": [
             {
              "marker.color": [
               [
                0.27352374391556805,
                0.26428462395074154,
                0.24843713718899407,
                0.23774576632226277,
                0.21459511946857882,
                0.1887686165464923,
                0.1788645067278353,
                0.1717961519974582,
                0.16796445202454532,
                0.1653032109680107,
                0.1641993115472822,
                0.16010327881120476
               ]
              ],
              "x": [
               [
                0.27352374391556805,
                0.26428462395074154,
                0.24843713718899407,
                0.23774576632226277,
                0.21459511946857882,
                0.1887686165464923,
                0.1788645067278353,
                0.1717961519974582,
                0.16796445202454532,
                0.1653032109680107,
                0.1641993115472822,
                0.16010327881120476
               ]
              ],
              "y": [
               [
                "JetBlue Airways",
                "Allegiant Air",
                "ExpressJet Airlines LLC",
                "Mesa Airlines Inc.",
                "PSA Airlines Inc.",
                "Frontier Airlines Inc.",
                "Alaska Airlines Inc.",
                "Envoy Air",
                "Southwest Airlines Co.",
                "United Air Lines Inc.",
                "SkyWest Airlines Inc.",
                "Spirit Air Lines"
               ]
              ]
             },
             {
              "title": "Top 12 Airlines by Delay Rate",
              "xaxis": {
               "title": "Delay Rate"
              },
              "yaxis": {
               "autorange": "reversed",
               "title": "Airline"
              }
             }
            ],
            "label": "Top 12",
            "method": "update"
           },
           {
            "args": [
             {
              "marker.color": [
               [
                0.27352374391556805,
                0.26428462395074154,
                0.24843713718899407,
                0.23774576632226277,
                0.21459511946857882,
                0.1887686165464923,
                0.1788645067278353,
                0.1717961519974582,
                0.16796445202454532,
                0.1653032109680107,
                0.1641993115472822,
                0.16010327881120476,
                0.15948360634489078
               ]
              ],
              "x": [
               [
                0.27352374391556805,
                0.26428462395074154,
                0.24843713718899407,
                0.23774576632226277,
                0.21459511946857882,
                0.1887686165464923,
                0.1788645067278353,
                0.1717961519974582,
                0.16796445202454532,
                0.1653032109680107,
                0.1641993115472822,
                0.16010327881120476,
                0.15948360634489078
               ]
              ],
              "y": [
               [
                "JetBlue Airways",
                "Allegiant Air",
                "ExpressJet Airlines LLC",
                "Mesa Airlines Inc.",
                "PSA Airlines Inc.",
                "Frontier Airlines Inc.",
                "Alaska Airlines Inc.",
                "Envoy Air",
                "Southwest Airlines Co.",
                "United Air Lines Inc.",
                "SkyWest Airlines Inc.",
                "Spirit Air Lines",
                "American Airlines Inc."
               ]
              ]
             },
             {
              "title": "Top 13 Airlines by Delay Rate",
              "xaxis": {
               "title": "Delay Rate"
              },
              "yaxis": {
               "autorange": "reversed",
               "title": "Airline"
              }
             }
            ],
            "label": "Top 13",
            "method": "update"
           },
           {
            "args": [
             {
              "marker.color": [
               [
                0.27352374391556805,
                0.26428462395074154,
                0.24843713718899407,
                0.23774576632226277,
                0.21459511946857882,
                0.1887686165464923,
                0.1788645067278353,
                0.1717961519974582,
                0.16796445202454532,
                0.1653032109680107,
                0.1641993115472822,
                0.16010327881120476,
                0.15948360634489078,
                0.1469982923551175
               ]
              ],
              "x": [
               [
                0.27352374391556805,
                0.26428462395074154,
                0.24843713718899407,
                0.23774576632226277,
                0.21459511946857882,
                0.1887686165464923,
                0.1788645067278353,
                0.1717961519974582,
                0.16796445202454532,
                0.1653032109680107,
                0.1641993115472822,
                0.16010327881120476,
                0.15948360634489078,
                0.1469982923551175
               ]
              ],
              "y": [
               [
                "JetBlue Airways",
                "Allegiant Air",
                "ExpressJet Airlines LLC",
                "Mesa Airlines Inc.",
                "PSA Airlines Inc.",
                "Frontier Airlines Inc.",
                "Alaska Airlines Inc.",
                "Envoy Air",
                "Southwest Airlines Co.",
                "United Air Lines Inc.",
                "SkyWest Airlines Inc.",
                "Spirit Air Lines",
                "American Airlines Inc.",
                "Republic Airline"
               ]
              ]
             },
             {
              "title": "Top 14 Airlines by Delay Rate",
              "xaxis": {
               "title": "Delay Rate"
              },
              "yaxis": {
               "autorange": "reversed",
               "title": "Airline"
              }
             }
            ],
            "label": "Top 14",
            "method": "update"
           },
           {
            "args": [
             {
              "marker.color": [
               [
                0.27352374391556805,
                0.26428462395074154,
                0.24843713718899407,
                0.23774576632226277,
                0.21459511946857882,
                0.1887686165464923,
                0.1788645067278353,
                0.1717961519974582,
                0.16796445202454532,
                0.1653032109680107,
                0.1641993115472822,
                0.16010327881120476,
                0.15948360634489078,
                0.1469982923551175,
                0.1402810515563366
               ]
              ],
              "x": [
               [
                0.27352374391556805,
                0.26428462395074154,
                0.24843713718899407,
                0.23774576632226277,
                0.21459511946857882,
                0.1887686165464923,
                0.1788645067278353,
                0.1717961519974582,
                0.16796445202454532,
                0.1653032109680107,
                0.1641993115472822,
                0.16010327881120476,
                0.15948360634489078,
                0.1469982923551175,
                0.1402810515563366
               ]
              ],
              "y": [
               [
                "JetBlue Airways",
                "Allegiant Air",
                "ExpressJet Airlines LLC",
                "Mesa Airlines Inc.",
                "PSA Airlines Inc.",
                "Frontier Airlines Inc.",
                "Alaska Airlines Inc.",
                "Envoy Air",
                "Southwest Airlines Co.",
                "United Air Lines Inc.",
                "SkyWest Airlines Inc.",
                "Spirit Air Lines",
                "American Airlines Inc.",
                "Republic Airline",
                "Delta Air Lines Inc."
               ]
              ]
             },
             {
              "title": "Top 15 Airlines by Delay Rate",
              "xaxis": {
               "title": "Delay Rate"
              },
              "yaxis": {
               "autorange": "reversed",
               "title": "Airline"
              }
             }
            ],
            "label": "Top 15",
            "method": "update"
           },
           {
            "args": [
             {
              "marker.color": [
               [
                0.27352374391556805,
                0.26428462395074154,
                0.24843713718899407,
                0.23774576632226277,
                0.21459511946857882,
                0.1887686165464923,
                0.1788645067278353,
                0.1717961519974582,
                0.16796445202454532,
                0.1653032109680107,
                0.1641993115472822,
                0.16010327881120476,
                0.15948360634489078,
                0.1469982923551175,
                0.1402810515563366,
                0.1327903878137688
               ]
              ],
              "x": [
               [
                0.27352374391556805,
                0.26428462395074154,
                0.24843713718899407,
                0.23774576632226277,
                0.21459511946857882,
                0.1887686165464923,
                0.1788645067278353,
                0.1717961519974582,
                0.16796445202454532,
                0.1653032109680107,
                0.1641993115472822,
                0.16010327881120476,
                0.15948360634489078,
                0.1469982923551175,
                0.1402810515563366,
                0.1327903878137688
               ]
              ],
              "y": [
               [
                "JetBlue Airways",
                "Allegiant Air",
                "ExpressJet Airlines LLC",
                "Mesa Airlines Inc.",
                "PSA Airlines Inc.",
                "Frontier Airlines Inc.",
                "Alaska Airlines Inc.",
                "Envoy Air",
                "Southwest Airlines Co.",
                "United Air Lines Inc.",
                "SkyWest Airlines Inc.",
                "Spirit Air Lines",
                "American Airlines Inc.",
                "Republic Airline",
                "Delta Air Lines Inc.",
                "Endeavor Air Inc."
               ]
              ]
             },
             {
              "title": "Top 16 Airlines by Delay Rate",
              "xaxis": {
               "title": "Delay Rate"
              },
              "yaxis": {
               "autorange": "reversed",
               "title": "Airline"
              }
             }
            ],
            "label": "Top 16",
            "method": "update"
           },
           {
            "args": [
             {
              "marker.color": [
               [
                0.27352374391556805,
                0.26428462395074154,
                0.24843713718899407,
                0.23774576632226277,
                0.21459511946857882,
                0.1887686165464923,
                0.1788645067278353,
                0.1717961519974582,
                0.16796445202454532,
                0.1653032109680107,
                0.1641993115472822,
                0.16010327881120476,
                0.15948360634489078,
                0.1469982923551175,
                0.1402810515563366,
                0.1327903878137688,
                0.07730019263551914
               ]
              ],
              "x": [
               [
                0.27352374391556805,
                0.26428462395074154,
                0.24843713718899407,
                0.23774576632226277,
                0.21459511946857882,
                0.1887686165464923,
                0.1788645067278353,
                0.1717961519974582,
                0.16796445202454532,
                0.1653032109680107,
                0.1641993115472822,
                0.16010327881120476,
                0.15948360634489078,
                0.1469982923551175,
                0.1402810515563366,
                0.1327903878137688,
                0.07730019263551914
               ]
              ],
              "y": [
               [
                "JetBlue Airways",
                "Allegiant Air",
                "ExpressJet Airlines LLC",
                "Mesa Airlines Inc.",
                "PSA Airlines Inc.",
                "Frontier Airlines Inc.",
                "Alaska Airlines Inc.",
                "Envoy Air",
                "Southwest Airlines Co.",
                "United Air Lines Inc.",
                "SkyWest Airlines Inc.",
                "Spirit Air Lines",
                "American Airlines Inc.",
                "Republic Airline",
                "Delta Air Lines Inc.",
                "Endeavor Air Inc.",
                "Hawaiian Airlines Inc."
               ]
              ]
             },
             {
              "title": "Top 17 Airlines by Delay Rate",
              "xaxis": {
               "title": "Delay Rate"
              },
              "yaxis": {
               "autorange": "reversed",
               "title": "Airline"
              }
             }
            ],
            "label": "Top 17",
            "method": "update"
           }
          ],
          "direction": "down",
          "showactive": true,
          "x": 0,
          "y": 1.15
         }
        ],
        "xaxis": {
         "title": {
          "text": "Delay Rate"
         }
        },
        "yaxis": {
         "autorange": "reversed",
         "title": {
          "text": "Airline"
         }
        }
       }
      }
     },
     "metadata": {},
     "output_type": "display_data"
    },
    {
     "data": {
      "application/vnd.plotly.v1+json": {
       "config": {
        "plotlyServerURL": "https://plot.ly"
       },
       "data": [
        {
         "marker": {
          "color": {
           "bdata": "s6asKWvK2j+llFJKKaXUP/C2m53tIdQ/oHJ2C78a0z950Fv3J+fSP8vQAbs91tI/IiIiIiIi0j9ub+SnZf3RP3EQPb4LB9E/rhxrzMn90D8=",
           "dtype": "f8"
          },
          "colorscale": [
           [
            0,
            "rgb(247,251,255)"
           ],
           [
            0.125,
            "rgb(222,235,247)"
           ],
           [
            0.25,
            "rgb(198,219,239)"
           ],
           [
            0.375,
            "rgb(158,202,225)"
           ],
           [
            0.5,
            "rgb(107,174,214)"
           ],
           [
            0.625,
            "rgb(66,146,198)"
           ],
           [
            0.75,
            "rgb(33,113,181)"
           ],
           [
            0.875,
            "rgb(8,81,156)"
           ],
           [
            1,
            "rgb(8,48,107)"
           ]
          ]
         },
         "name": "Airports",
         "orientation": "h",
         "type": "bar",
         "x": {
          "bdata": "s6asKWvK2j+llFJKKaXUP/C2m53tIdQ/oHJ2C78a0z950Fv3J+fSP8vQAbs91tI/IiIiIiIi0j9ub+SnZf3RP3EQPb4LB9E/rhxrzMn90D8=",
          "dtype": "f8"
         },
         "y": [
          "Concord, NC: Concord Padgett Regional",
          "Redding, CA: Redding Municipal",
          "Bakersfield, CA: Meadows Field",
          "Aguadilla, PR: Rafael Hernandez",
          "Akron, OH: Akron-Canton Regional",
          "Trenton, NJ: Trenton Mercer",
          "Newport News/Williamsburg, VA: Newport News/Williamsburg International",
          "Aspen, CO: Aspen Pitkin County Sardy Field",
          "State College, PA: University Park",
          "Phoenix, AZ: Phoenix - Mesa Gateway"
         ]
        }
       ],
       "layout": {
        "paper_bgcolor": "lightgray",
        "plot_bgcolor": "lightgray",
        "template": {
         "data": {
          "bar": [
           {
            "error_x": {
             "color": "#2a3f5f"
            },
            "error_y": {
             "color": "#2a3f5f"
            },
            "marker": {
             "line": {
              "color": "#E5ECF6",
              "width": 0.5
             },
             "pattern": {
              "fillmode": "overlay",
              "size": 10,
              "solidity": 0.2
             }
            },
            "type": "bar"
           }
          ],
          "barpolar": [
           {
            "marker": {
             "line": {
              "color": "#E5ECF6",
              "width": 0.5
             },
             "pattern": {
              "fillmode": "overlay",
              "size": 10,
              "solidity": 0.2
             }
            },
            "type": "barpolar"
           }
          ],
          "carpet": [
           {
            "aaxis": {
             "endlinecolor": "#2a3f5f",
             "gridcolor": "white",
             "linecolor": "white",
             "minorgridcolor": "white",
             "startlinecolor": "#2a3f5f"
            },
            "baxis": {
             "endlinecolor": "#2a3f5f",
             "gridcolor": "white",
             "linecolor": "white",
             "minorgridcolor": "white",
             "startlinecolor": "#2a3f5f"
            },
            "type": "carpet"
           }
          ],
          "choropleth": [
           {
            "colorbar": {
             "outlinewidth": 0,
             "ticks": ""
            },
            "type": "choropleth"
           }
          ],
          "contour": [
           {
            "colorbar": {
             "outlinewidth": 0,
             "ticks": ""
            },
            "colorscale": [
             [
              0,
              "#0d0887"
             ],
             [
              0.1111111111111111,
              "#46039f"
             ],
             [
              0.2222222222222222,
              "#7201a8"
             ],
             [
              0.3333333333333333,
              "#9c179e"
             ],
             [
              0.4444444444444444,
              "#bd3786"
             ],
             [
              0.5555555555555556,
              "#d8576b"
             ],
             [
              0.6666666666666666,
              "#ed7953"
             ],
             [
              0.7777777777777778,
              "#fb9f3a"
             ],
             [
              0.8888888888888888,
              "#fdca26"
             ],
             [
              1,
              "#f0f921"
             ]
            ],
            "type": "contour"
           }
          ],
          "contourcarpet": [
           {
            "colorbar": {
             "outlinewidth": 0,
             "ticks": ""
            },
            "type": "contourcarpet"
           }
          ],
          "heatmap": [
           {
            "colorbar": {
             "outlinewidth": 0,
             "ticks": ""
            },
            "colorscale": [
             [
              0,
              "#0d0887"
             ],
             [
              0.1111111111111111,
              "#46039f"
             ],
             [
              0.2222222222222222,
              "#7201a8"
             ],
             [
              0.3333333333333333,
              "#9c179e"
             ],
             [
              0.4444444444444444,
              "#bd3786"
             ],
             [
              0.5555555555555556,
              "#d8576b"
             ],
             [
              0.6666666666666666,
              "#ed7953"
             ],
             [
              0.7777777777777778,
              "#fb9f3a"
             ],
             [
              0.8888888888888888,
              "#fdca26"
             ],
             [
              1,
              "#f0f921"
             ]
            ],
            "type": "heatmap"
           }
          ],
          "histogram": [
           {
            "marker": {
             "pattern": {
              "fillmode": "overlay",
              "size": 10,
              "solidity": 0.2
             }
            },
            "type": "histogram"
           }
          ],
          "histogram2d": [
           {
            "colorbar": {
             "outlinewidth": 0,
             "ticks": ""
            },
            "colorscale": [
             [
              0,
              "#0d0887"
             ],
             [
              0.1111111111111111,
              "#46039f"
             ],
             [
              0.2222222222222222,
              "#7201a8"
             ],
             [
              0.3333333333333333,
              "#9c179e"
             ],
             [
              0.4444444444444444,
              "#bd3786"
             ],
             [
              0.5555555555555556,
              "#d8576b"
             ],
             [
              0.6666666666666666,
              "#ed7953"
             ],
             [
              0.7777777777777778,
              "#fb9f3a"
             ],
             [
              0.8888888888888888,
              "#fdca26"
             ],
             [
              1,
              "#f0f921"
             ]
            ],
            "type": "histogram2d"
           }
          ],
          "histogram2dcontour": [
           {
            "colorbar": {
             "outlinewidth": 0,
             "ticks": ""
            },
            "colorscale": [
             [
              0,
              "#0d0887"
             ],
             [
              0.1111111111111111,
              "#46039f"
             ],
             [
              0.2222222222222222,
              "#7201a8"
             ],
             [
              0.3333333333333333,
              "#9c179e"
             ],
             [
              0.4444444444444444,
              "#bd3786"
             ],
             [
              0.5555555555555556,
              "#d8576b"
             ],
             [
              0.6666666666666666,
              "#ed7953"
             ],
             [
              0.7777777777777778,
              "#fb9f3a"
             ],
             [
              0.8888888888888888,
              "#fdca26"
             ],
             [
              1,
              "#f0f921"
             ]
            ],
            "type": "histogram2dcontour"
           }
          ],
          "mesh3d": [
           {
            "colorbar": {
             "outlinewidth": 0,
             "ticks": ""
            },
            "type": "mesh3d"
           }
          ],
          "parcoords": [
           {
            "line": {
             "colorbar": {
              "outlinewidth": 0,
              "ticks": ""
             }
            },
            "type": "parcoords"
           }
          ],
          "pie": [
           {
            "automargin": true,
            "type": "pie"
           }
          ],
          "scatter": [
           {
            "fillpattern": {
             "fillmode": "overlay",
             "size": 10,
             "solidity": 0.2
            },
            "type": "scatter"
           }
          ],
          "scatter3d": [
           {
            "line": {
             "colorbar": {
              "outlinewidth": 0,
              "ticks": ""
             }
            },
            "marker": {
             "colorbar": {
              "outlinewidth": 0,
              "ticks": ""
             }
            },
            "type": "scatter3d"
           }
          ],
          "scattercarpet": [
           {
            "marker": {
             "colorbar": {
              "outlinewidth": 0,
              "ticks": ""
             }
            },
            "type": "scattercarpet"
           }
          ],
          "scattergeo": [
           {
            "marker": {
             "colorbar": {
              "outlinewidth": 0,
              "ticks": ""
             }
            },
            "type": "scattergeo"
           }
          ],
          "scattergl": [
           {
            "marker": {
             "colorbar": {
              "outlinewidth": 0,
              "ticks": ""
             }
            },
            "type": "scattergl"
           }
          ],
          "scattermap": [
           {
            "marker": {
             "colorbar": {
              "outlinewidth": 0,
              "ticks": ""
             }
            },
            "type": "scattermap"
           }
          ],
          "scattermapbox": [
           {
            "marker": {
             "colorbar": {
              "outlinewidth": 0,
              "ticks": ""
             }
            },
            "type": "scattermapbox"
           }
          ],
          "scatterpolar": [
           {
            "marker": {
             "colorbar": {
              "outlinewidth": 0,
              "ticks": ""
             }
            },
            "type": "scatterpolar"
           }
          ],
          "scatterpolargl": [
           {
            "marker": {
             "colorbar": {
              "outlinewidth": 0,
              "ticks": ""
             }
            },
            "type": "scatterpolargl"
           }
          ],
          "scatterternary": [
           {
            "marker": {
             "colorbar": {
              "outlinewidth": 0,
              "ticks": ""
             }
            },
            "type": "scatterternary"
           }
          ],
          "surface": [
           {
            "colorbar": {
             "outlinewidth": 0,
             "ticks": ""
            },
            "colorscale": [
             [
              0,
              "#0d0887"
             ],
             [
              0.1111111111111111,
              "#46039f"
             ],
             [
              0.2222222222222222,
              "#7201a8"
             ],
             [
              0.3333333333333333,
              "#9c179e"
             ],
             [
              0.4444444444444444,
              "#bd3786"
             ],
             [
              0.5555555555555556,
              "#d8576b"
             ],
             [
              0.6666666666666666,
              "#ed7953"
             ],
             [
              0.7777777777777778,
              "#fb9f3a"
             ],
             [
              0.8888888888888888,
              "#fdca26"
             ],
             [
              1,
              "#f0f921"
             ]
            ],
            "type": "surface"
           }
          ],
          "table": [
           {
            "cells": {
             "fill": {
              "color": "#EBF0F8"
             },
             "line": {
              "color": "white"
             }
            },
            "header": {
             "fill": {
              "color": "#C8D4E3"
             },
             "line": {
              "color": "white"
             }
            },
            "type": "table"
           }
          ]
         },
         "layout": {
          "annotationdefaults": {
           "arrowcolor": "#2a3f5f",
           "arrowhead": 0,
           "arrowwidth": 1
          },
          "autotypenumbers": "strict",
          "coloraxis": {
           "colorbar": {
            "outlinewidth": 0,
            "ticks": ""
           }
          },
          "colorscale": {
           "diverging": [
            [
             0,
             "#8e0152"
            ],
            [
             0.1,
             "#c51b7d"
            ],
            [
             0.2,
             "#de77ae"
            ],
            [
             0.3,
             "#f1b6da"
            ],
            [
             0.4,
             "#fde0ef"
            ],
            [
             0.5,
             "#f7f7f7"
            ],
            [
             0.6,
             "#e6f5d0"
            ],
            [
             0.7,
             "#b8e186"
            ],
            [
             0.8,
             "#7fbc41"
            ],
            [
             0.9,
             "#4d9221"
            ],
            [
             1,
             "#276419"
            ]
           ],
           "sequential": [
            [
             0,
             "#0d0887"
            ],
            [
             0.1111111111111111,
             "#46039f"
            ],
            [
             0.2222222222222222,
             "#7201a8"
            ],
            [
             0.3333333333333333,
             "#9c179e"
            ],
            [
             0.4444444444444444,
             "#bd3786"
            ],
            [
             0.5555555555555556,
             "#d8576b"
            ],
            [
             0.6666666666666666,
             "#ed7953"
            ],
            [
             0.7777777777777778,
             "#fb9f3a"
            ],
            [
             0.8888888888888888,
             "#fdca26"
            ],
            [
             1,
             "#f0f921"
            ]
           ],
           "sequentialminus": [
            [
             0,
             "#0d0887"
            ],
            [
             0.1111111111111111,
             "#46039f"
            ],
            [
             0.2222222222222222,
             "#7201a8"
            ],
            [
             0.3333333333333333,
             "#9c179e"
            ],
            [
             0.4444444444444444,
             "#bd3786"
            ],
            [
             0.5555555555555556,
             "#d8576b"
            ],
            [
             0.6666666666666666,
             "#ed7953"
            ],
            [
             0.7777777777777778,
             "#fb9f3a"
            ],
            [
             0.8888888888888888,
             "#fdca26"
            ],
            [
             1,
             "#f0f921"
            ]
           ]
          },
          "colorway": [
           "#636efa",
           "#EF553B",
           "#00cc96",
           "#ab63fa",
           "#FFA15A",
           "#19d3f3",
           "#FF6692",
           "#B6E880",
           "#FF97FF",
           "#FECB52"
          ],
          "font": {
           "color": "#2a3f5f"
          },
          "geo": {
           "bgcolor": "white",
           "lakecolor": "white",
           "landcolor": "#E5ECF6",
           "showlakes": true,
           "showland": true,
           "subunitcolor": "white"
          },
          "hoverlabel": {
           "align": "left"
          },
          "hovermode": "closest",
          "mapbox": {
           "style": "light"
          },
          "paper_bgcolor": "white",
          "plot_bgcolor": "#E5ECF6",
          "polar": {
           "angularaxis": {
            "gridcolor": "white",
            "linecolor": "white",
            "ticks": ""
           },
           "bgcolor": "#E5ECF6",
           "radialaxis": {
            "gridcolor": "white",
            "linecolor": "white",
            "ticks": ""
           }
          },
          "scene": {
           "xaxis": {
            "backgroundcolor": "#E5ECF6",
            "gridcolor": "white",
            "gridwidth": 2,
            "linecolor": "white",
            "showbackground": true,
            "ticks": "",
            "zerolinecolor": "white"
           },
           "yaxis": {
            "backgroundcolor": "#E5ECF6",
            "gridcolor": "white",
            "gridwidth": 2,
            "linecolor": "white",
            "showbackground": true,
            "ticks": "",
            "zerolinecolor": "white"
           },
           "zaxis": {
            "backgroundcolor": "#E5ECF6",
            "gridcolor": "white",
            "gridwidth": 2,
            "linecolor": "white",
            "showbackground": true,
            "ticks": "",
            "zerolinecolor": "white"
           }
          },
          "shapedefaults": {
           "line": {
            "color": "#2a3f5f"
           }
          },
          "ternary": {
           "aaxis": {
            "gridcolor": "white",
            "linecolor": "white",
            "ticks": ""
           },
           "baxis": {
            "gridcolor": "white",
            "linecolor": "white",
            "ticks": ""
           },
           "bgcolor": "#E5ECF6",
           "caxis": {
            "gridcolor": "white",
            "linecolor": "white",
            "ticks": ""
           }
          },
          "title": {
           "x": 0.05
          },
          "xaxis": {
           "automargin": true,
           "gridcolor": "white",
           "linecolor": "white",
           "ticks": "",
           "title": {
            "standoff": 15
           },
           "zerolinecolor": "white",
           "zerolinewidth": 2
          },
          "yaxis": {
           "automargin": true,
           "gridcolor": "white",
           "linecolor": "white",
           "ticks": "",
           "title": {
            "standoff": 15
           },
           "zerolinecolor": "white",
           "zerolinewidth": 2
          }
         }
        },
        "title": {
         "text": "Top 10 Airports by Delay Rate"
        },
        "updatemenus": [
         {
          "active": 9,
          "buttons": [
           {
            "args": [
             {
              "marker.color": [
               [
                0.4186046511627907
               ]
              ],
              "x": [
               [
                0.4186046511627907
               ]
              ],
              "y": [
               [
                "Concord, NC: Concord Padgett Regional"
               ]
              ]
             },
             {
              "title": "Top 1 Airports by Delay Rate",
              "xaxis": {
               "title": "Delay Rate"
              },
              "yaxis": {
               "autorange": "reversed",
               "title": "Airport"
              }
             }
            ],
            "label": "Top 1",
            "method": "update"
           },
           {
            "args": [
             {
              "marker.color": [
               [
                0.4186046511627907,
                0.3225806451612903
               ]
              ],
              "x": [
               [
                0.4186046511627907,
                0.3225806451612903
               ]
              ],
              "y": [
               [
                "Concord, NC: Concord Padgett Regional",
                "Redding, CA: Redding Municipal"
               ]
              ]
             },
             {
              "title": "Top 2 Airports by Delay Rate",
              "xaxis": {
               "title": "Delay Rate"
              },
              "yaxis": {
               "autorange": "reversed",
               "title": "Airport"
              }
             }
            ],
            "label": "Top 2",
            "method": "update"
           },
           {
            "args": [
             {
              "marker.color": [
               [
                0.4186046511627907,
                0.3225806451612903,
                0.3145708121436277
               ]
              ],
              "x": [
               [
                0.4186046511627907,
                0.3225806451612903,
                0.3145708121436277
               ]
              ],
              "y": [
               [
                "Concord, NC: Concord Padgett Regional",
                "Redding, CA: Redding Municipal",
                "Bakersfield, CA: Meadows Field"
               ]
              ]
             },
             {
              "title": "Top 3 Airports by Delay Rate",
              "xaxis": {
               "title": "Delay Rate"
              },
              "yaxis": {
               "autorange": "reversed",
               "title": "Airport"
              }
             }
            ],
            "label": "Top 3",
            "method": "update"
           },
           {
            "args": [
             {
              "marker.color": [
               [
                0.4186046511627907,
                0.3225806451612903,
                0.3145708121436277,
                0.29850746268656714
               ]
              ],
              "x": [
               [
                0.4186046511627907,
                0.3225806451612903,
                0.3145708121436277,
                0.29850746268656714
               ]
              ],
              "y": [
               [
                "Concord, NC: Concord Padgett Regional",
                "Redding, CA: Redding Municipal",
                "Bakersfield, CA: Meadows Field",
                "Aguadilla, PR: Rafael Hernandez"
               ]
              ]
             },
             {
              "title": "Top 4 Airports by Delay Rate",
              "xaxis": {
               "title": "Delay Rate"
              },
              "yaxis": {
               "autorange": "reversed",
               "title": "Airport"
              }
             }
            ],
            "label": "Top 4",
            "method": "update"
           },
           {
            "args": [
             {
              "marker.color": [
               [
                0.4186046511627907,
                0.3225806451612903,
                0.3145708121436277,
                0.29850746268656714,
                0.29535864978902954
               ]
              ],
              "x": [
               [
                0.4186046511627907,
                0.3225806451612903,
                0.3145708121436277,
                0.29850746268656714,
                0.29535864978902954
               ]
              ],
              "y": [
               [
                "Concord, NC: Concord Padgett Regional",
                "Redding, CA: Redding Municipal",
                "Bakersfield, CA: Meadows Field",
                "Aguadilla, PR: Rafael Hernandez",
                "Akron, OH: Akron-Canton Regional"
               ]
              ]
             },
             {
              "title": "Top 5 Airports by Delay Rate",
              "xaxis": {
               "title": "Delay Rate"
              },
              "yaxis": {
               "autorange": "reversed",
               "title": "Airport"
              }
             }
            ],
            "label": "Top 5",
            "method": "update"
           },
           {
            "args": [
             {
              "marker.color": [
               [
                0.4186046511627907,
                0.3225806451612903,
                0.3145708121436277,
                0.29850746268656714,
                0.29535864978902954,
                0.29432624113475175
               ]
              ],
              "x": [
               [
                0.4186046511627907,
                0.3225806451612903,
                0.3145708121436277,
                0.29850746268656714,
                0.29535864978902954,
                0.29432624113475175
               ]
              ],
              "y": [
               [
                "Concord, NC: Concord Padgett Regional",
                "Redding, CA: Redding Municipal",
                "Bakersfield, CA: Meadows Field",
                "Aguadilla, PR: Rafael Hernandez",
                "Akron, OH: Akron-Canton Regional",
                "Trenton, NJ: Trenton Mercer"
               ]
              ]
             },
             {
              "title": "Top 6 Airports by Delay Rate",
              "xaxis": {
               "title": "Delay Rate"
              },
              "yaxis": {
               "autorange": "reversed",
               "title": "Airport"
              }
             }
            ],
            "label": "Top 6",
            "method": "update"
           },
           {
            "args": [
             {
              "marker.color": [
               [
                0.4186046511627907,
                0.3225806451612903,
                0.3145708121436277,
                0.29850746268656714,
                0.29535864978902954,
                0.29432624113475175,
                0.2833333333333333
               ]
              ],
              "x": [
               [
                0.4186046511627907,
                0.3225806451612903,
                0.3145708121436277,
                0.29850746268656714,
                0.29535864978902954,
                0.29432624113475175,
                0.2833333333333333
               ]
              ],
              "y": [
               [
                "Concord, NC: Concord Padgett Regional",
                "Redding, CA: Redding Municipal",
                "Bakersfield, CA: Meadows Field",
                "Aguadilla, PR: Rafael Hernandez",
                "Akron, OH: Akron-Canton Regional",
                "Trenton, NJ: Trenton Mercer",
                "Newport News/Williamsburg, VA: Newport News/Williamsburg International"
               ]
              ]
             },
             {
              "title": "Top 7 Airports by Delay Rate",
              "xaxis": {
               "title": "Delay Rate"
              },
              "yaxis": {
               "autorange": "reversed",
               "title": "Airport"
              }
             }
            ],
            "label": "Top 7",
            "method": "update"
           },
           {
            "args": [
             {
              "marker.color": [
               [
                0.4186046511627907,
                0.3225806451612903,
                0.3145708121436277,
                0.29850746268656714,
                0.29535864978902954,
                0.29432624113475175,
                0.2833333333333333,
                0.2810911311696519
               ]
              ],
              "x": [
               [
                0.4186046511627907,
                0.3225806451612903,
                0.3145708121436277,
                0.29850746268656714,
                0.29535864978902954,
                0.29432624113475175,
                0.2833333333333333,
                0.2810911311696519
               ]
              ],
              "y": [
               [
                "Concord, NC: Concord Padgett Regional",
                "Redding, CA: Redding Municipal",
                "Bakersfield, CA: Meadows Field",
                "Aguadilla, PR: Rafael Hernandez",
                "Akron, OH: Akron-Canton Regional",
                "Trenton, NJ: Trenton Mercer",
                "Newport News/Williamsburg, VA: Newport News/Williamsburg International",
                "Aspen, CO: Aspen Pitkin County Sardy Field"
               ]
              ]
             },
             {
              "title": "Top 8 Airports by Delay Rate",
              "xaxis": {
               "title": "Delay Rate"
              },
              "yaxis": {
               "autorange": "reversed",
               "title": "Airport"
              }
             }
            ],
            "label": "Top 8",
            "method": "update"
           },
           {
            "args": [
             {
              "marker.color": [
               [
                0.4186046511627907,
                0.3225806451612903,
                0.3145708121436277,
                0.29850746268656714,
                0.29535864978902954,
                0.29432624113475175,
                0.2833333333333333,
                0.2810911311696519,
                0.26605504587155965
               ]
              ],
              "x": [
               [
                0.4186046511627907,
                0.3225806451612903,
                0.3145708121436277,
                0.29850746268656714,
                0.29535864978902954,
                0.29432624113475175,
                0.2833333333333333,
                0.2810911311696519,
                0.26605504587155965
               ]
              ],
              "y": [
               [
                "Concord, NC: Concord Padgett Regional",
                "Redding, CA: Redding Municipal",
                "Bakersfield, CA: Meadows Field",
                "Aguadilla, PR: Rafael Hernandez",
                "Akron, OH: Akron-Canton Regional",
                "Trenton, NJ: Trenton Mercer",
                "Newport News/Williamsburg, VA: Newport News/Williamsburg International",
                "Aspen, CO: Aspen Pitkin County Sardy Field",
                "State College, PA: University Park"
               ]
              ]
             },
             {
              "title": "Top 9 Airports by Delay Rate",
              "xaxis": {
               "title": "Delay Rate"
              },
              "yaxis": {
               "autorange": "reversed",
               "title": "Airport"
              }
             }
            ],
            "label": "Top 9",
            "method": "update"
           },
           {
            "args": [
             {
              "marker.color": [
               [
                0.4186046511627907,
                0.3225806451612903,
                0.3145708121436277,
                0.29850746268656714,
                0.29535864978902954,
                0.29432624113475175,
                0.2833333333333333,
                0.2810911311696519,
                0.26605504587155965,
                0.26549000704512593
               ]
              ],
              "x": [
               [
                0.4186046511627907,
                0.3225806451612903,
                0.3145708121436277,
                0.29850746268656714,
                0.29535864978902954,
                0.29432624113475175,
                0.2833333333333333,
                0.2810911311696519,
                0.26605504587155965,
                0.26549000704512593
               ]
              ],
              "y": [
               [
                "Concord, NC: Concord Padgett Regional",
                "Redding, CA: Redding Municipal",
                "Bakersfield, CA: Meadows Field",
                "Aguadilla, PR: Rafael Hernandez",
                "Akron, OH: Akron-Canton Regional",
                "Trenton, NJ: Trenton Mercer",
                "Newport News/Williamsburg, VA: Newport News/Williamsburg International",
                "Aspen, CO: Aspen Pitkin County Sardy Field",
                "State College, PA: University Park",
                "Phoenix, AZ: Phoenix - Mesa Gateway"
               ]
              ]
             },
             {
              "title": "Top 10 Airports by Delay Rate",
              "xaxis": {
               "title": "Delay Rate"
              },
              "yaxis": {
               "autorange": "reversed",
               "title": "Airport"
              }
             }
            ],
            "label": "Top 10",
            "method": "update"
           },
           {
            "args": [
             {
              "marker.color": [
               [
                0.4186046511627907,
                0.3225806451612903,
                0.3145708121436277,
                0.29850746268656714,
                0.29535864978902954,
                0.29432624113475175,
                0.2833333333333333,
                0.2810911311696519,
                0.26605504587155965,
                0.26549000704512593,
                0.2553348844912125
               ]
              ],
              "x": [
               [
                0.4186046511627907,
                0.3225806451612903,
                0.3145708121436277,
                0.29850746268656714,
                0.29535864978902954,
                0.29432624113475175,
                0.2833333333333333,
                0.2810911311696519,
                0.26605504587155965,
                0.26549000704512593,
                0.2553348844912125
               ]
              ],
              "y": [
               [
                "Concord, NC: Concord Padgett Regional",
                "Redding, CA: Redding Municipal",
                "Bakersfield, CA: Meadows Field",
                "Aguadilla, PR: Rafael Hernandez",
                "Akron, OH: Akron-Canton Regional",
                "Trenton, NJ: Trenton Mercer",
                "Newport News/Williamsburg, VA: Newport News/Williamsburg International",
                "Aspen, CO: Aspen Pitkin County Sardy Field",
                "State College, PA: University Park",
                "Phoenix, AZ: Phoenix - Mesa Gateway",
                "Newark, NJ: Newark Liberty International"
               ]
              ]
             },
             {
              "title": "Top 11 Airports by Delay Rate",
              "xaxis": {
               "title": "Delay Rate"
              },
              "yaxis": {
               "autorange": "reversed",
               "title": "Airport"
              }
             }
            ],
            "label": "Top 11",
            "method": "update"
           },
           {
            "args": [
             {
              "marker.color": [
               [
                0.4186046511627907,
                0.3225806451612903,
                0.3145708121436277,
                0.29850746268656714,
                0.29535864978902954,
                0.29432624113475175,
                0.2833333333333333,
                0.2810911311696519,
                0.26605504587155965,
                0.26549000704512593,
                0.2553348844912125,
                0.25157232704402516
               ]
              ],
              "x": [
               [
                0.4186046511627907,
                0.3225806451612903,
                0.3145708121436277,
                0.29850746268656714,
                0.29535864978902954,
                0.29432624113475175,
                0.2833333333333333,
                0.2810911311696519,
                0.26605504587155965,
                0.26549000704512593,
                0.2553348844912125,
                0.25157232704402516
               ]
              ],
              "y": [
               [
                "Concord, NC: Concord Padgett Regional",
                "Redding, CA: Redding Municipal",
                "Bakersfield, CA: Meadows Field",
                "Aguadilla, PR: Rafael Hernandez",
                "Akron, OH: Akron-Canton Regional",
                "Trenton, NJ: Trenton Mercer",
                "Newport News/Williamsburg, VA: Newport News/Williamsburg International",
                "Aspen, CO: Aspen Pitkin County Sardy Field",
                "State College, PA: University Park",
                "Phoenix, AZ: Phoenix - Mesa Gateway",
                "Newark, NJ: Newark Liberty International",
                "Saginaw/Bay City/Midland, MI: MBS International"
               ]
              ]
             },
             {
              "title": "Top 12 Airports by Delay Rate",
              "xaxis": {
               "title": "Delay Rate"
              },
              "yaxis": {
               "autorange": "reversed",
               "title": "Airport"
              }
             }
            ],
            "label": "Top 12",
            "method": "update"
           },
           {
            "args": [
             {
              "marker.color": [
               [
                0.4186046511627907,
                0.3225806451612903,
                0.3145708121436277,
                0.29850746268656714,
                0.29535864978902954,
                0.29432624113475175,
                0.2833333333333333,
                0.2810911311696519,
                0.26605504587155965,
                0.26549000704512593,
                0.2553348844912125,
                0.25157232704402516,
                0.25053858597392714
               ]
              ],
              "x": [
               [
                0.4186046511627907,
                0.3225806451612903,
                0.3145708121436277,
                0.29850746268656714,
                0.29535864978902954,
                0.29432624113475175,
                0.2833333333333333,
                0.2810911311696519,
                0.26605504587155965,
                0.26549000704512593,
                0.2553348844912125,
                0.25157232704402516,
                0.25053858597392714
               ]
              ],
              "y": [
               [
                "Concord, NC: Concord Padgett Regional",
                "Redding, CA: Redding Municipal",
                "Bakersfield, CA: Meadows Field",
                "Aguadilla, PR: Rafael Hernandez",
                "Akron, OH: Akron-Canton Regional",
                "Trenton, NJ: Trenton Mercer",
                "Newport News/Williamsburg, VA: Newport News/Williamsburg International",
                "Aspen, CO: Aspen Pitkin County Sardy Field",
                "State College, PA: University Park",
                "Phoenix, AZ: Phoenix - Mesa Gateway",
                "Newark, NJ: Newark Liberty International",
                "Saginaw/Bay City/Midland, MI: MBS International",
                "Monterey, CA: Monterey Regional"
               ]
              ]
             },
             {
              "title": "Top 13 Airports by Delay Rate",
              "xaxis": {
               "title": "Delay Rate"
              },
              "yaxis": {
               "autorange": "reversed",
               "title": "Airport"
              }
             }
            ],
            "label": "Top 13",
            "method": "update"
           },
           {
            "args": [
             {
              "marker.color": [
               [
                0.4186046511627907,
                0.3225806451612903,
                0.3145708121436277,
                0.29850746268656714,
                0.29535864978902954,
                0.29432624113475175,
                0.2833333333333333,
                0.2810911311696519,
                0.26605504587155965,
                0.26549000704512593,
                0.2553348844912125,
                0.25157232704402516,
                0.25053858597392714,
                0.25
               ]
              ],
              "x": [
               [
                0.4186046511627907,
                0.3225806451612903,
                0.3145708121436277,
                0.29850746268656714,
                0.29535864978902954,
                0.29432624113475175,
                0.2833333333333333,
                0.2810911311696519,
                0.26605504587155965,
                0.26549000704512593,
                0.2553348844912125,
                0.25157232704402516,
                0.25053858597392714,
                0.25
               ]
              ],
              "y": [
               [
                "Concord, NC: Concord Padgett Regional",
                "Redding, CA: Redding Municipal",
                "Bakersfield, CA: Meadows Field",
                "Aguadilla, PR: Rafael Hernandez",
                "Akron, OH: Akron-Canton Regional",
                "Trenton, NJ: Trenton Mercer",
                "Newport News/Williamsburg, VA: Newport News/Williamsburg International",
                "Aspen, CO: Aspen Pitkin County Sardy Field",
                "State College, PA: University Park",
                "Phoenix, AZ: Phoenix - Mesa Gateway",
                "Newark, NJ: Newark Liberty International",
                "Saginaw/Bay City/Midland, MI: MBS International",
                "Monterey, CA: Monterey Regional",
                "Everett, WA: Snohomish County"
               ]
              ]
             },
             {
              "title": "Top 14 Airports by Delay Rate",
              "xaxis": {
               "title": "Delay Rate"
              },
              "yaxis": {
               "autorange": "reversed",
               "title": "Airport"
              }
             }
            ],
            "label": "Top 14",
            "method": "update"
           },
           {
            "args": [
             {
              "marker.color": [
               [
                0.4186046511627907,
                0.3225806451612903,
                0.3145708121436277,
                0.29850746268656714,
                0.29535864978902954,
                0.29432624113475175,
                0.2833333333333333,
                0.2810911311696519,
                0.26605504587155965,
                0.26549000704512593,
                0.2553348844912125,
                0.25157232704402516,
                0.25053858597392714,
                0.25,
                0.2435808295047738
               ]
              ],
              "x": [
               [
                0.4186046511627907,
                0.3225806451612903,
                0.3145708121436277,
                0.29850746268656714,
                0.29535864978902954,
                0.29432624113475175,
                0.2833333333333333,
                0.2810911311696519,
                0.26605504587155965,
                0.26549000704512593,
                0.2553348844912125,
                0.25157232704402516,
                0.25053858597392714,
                0.25,
                0.2435808295047738
               ]
              ],
              "y": [
               [
                "Concord, NC: Concord Padgett Regional",
                "Redding, CA: Redding Municipal",
                "Bakersfield, CA: Meadows Field",
                "Aguadilla, PR: Rafael Hernandez",
                "Akron, OH: Akron-Canton Regional",
                "Trenton, NJ: Trenton Mercer",
                "Newport News/Williamsburg, VA: Newport News/Williamsburg International",
                "Aspen, CO: Aspen Pitkin County Sardy Field",
                "State College, PA: University Park",
                "Phoenix, AZ: Phoenix - Mesa Gateway",
                "Newark, NJ: Newark Liberty International",
                "Saginaw/Bay City/Midland, MI: MBS International",
                "Monterey, CA: Monterey Regional",
                "Everett, WA: Snohomish County",
                "Lubbock, TX: Lubbock Preston Smith International"
               ]
              ]
             },
             {
              "title": "Top 15 Airports by Delay Rate",
              "xaxis": {
               "title": "Delay Rate"
              },
              "yaxis": {
               "autorange": "reversed",
               "title": "Airport"
              }
             }
            ],
            "label": "Top 15",
            "method": "update"
           },
           {
            "args": [
             {
              "marker.color": [
               [
                0.4186046511627907,
                0.3225806451612903,
                0.3145708121436277,
                0.29850746268656714,
                0.29535864978902954,
                0.29432624113475175,
                0.2833333333333333,
                0.2810911311696519,
                0.26605504587155965,
                0.26549000704512593,
                0.2553348844912125,
                0.25157232704402516,
                0.25053858597392714,
                0.25,
                0.2435808295047738,
                0.23931623931623933
               ]
              ],
              "x": [
               [
                0.4186046511627907,
                0.3225806451612903,
                0.3145708121436277,
                0.29850746268656714,
                0.29535864978902954,
                0.29432624113475175,
                0.2833333333333333,
                0.2810911311696519,
                0.26605504587155965,
                0.26549000704512593,
                0.2553348844912125,
                0.25157232704402516,
                0.25053858597392714,
                0.25,
                0.2435808295047738,
                0.23931623931623933
               ]
              ],
              "y": [
               [
                "Concord, NC: Concord Padgett Regional",
                "Redding, CA: Redding Municipal",
                "Bakersfield, CA: Meadows Field",
                "Aguadilla, PR: Rafael Hernandez",
                "Akron, OH: Akron-Canton Regional",
                "Trenton, NJ: Trenton Mercer",
                "Newport News/Williamsburg, VA: Newport News/Williamsburg International",
                "Aspen, CO: Aspen Pitkin County Sardy Field",
                "State College, PA: University Park",
                "Phoenix, AZ: Phoenix - Mesa Gateway",
                "Newark, NJ: Newark Liberty International",
                "Saginaw/Bay City/Midland, MI: MBS International",
                "Monterey, CA: Monterey Regional",
                "Everett, WA: Snohomish County",
                "Lubbock, TX: Lubbock Preston Smith International",
                "Joplin, MO: Joplin Regional"
               ]
              ]
             },
             {
              "title": "Top 16 Airports by Delay Rate",
              "xaxis": {
               "title": "Delay Rate"
              },
              "yaxis": {
               "autorange": "reversed",
               "title": "Airport"
              }
             }
            ],
            "label": "Top 16",
            "method": "update"
           },
           {
            "args": [
             {
              "marker.color": [
               [
                0.4186046511627907,
                0.3225806451612903,
                0.3145708121436277,
                0.29850746268656714,
                0.29535864978902954,
                0.29432624113475175,
                0.2833333333333333,
                0.2810911311696519,
                0.26605504587155965,
                0.26549000704512593,
                0.2553348844912125,
                0.25157232704402516,
                0.25053858597392714,
                0.25,
                0.2435808295047738,
                0.23931623931623933,
                0.23893805309734514
               ]
              ],
              "x": [
               [
                0.4186046511627907,
                0.3225806451612903,
                0.3145708121436277,
                0.29850746268656714,
                0.29535864978902954,
                0.29432624113475175,
                0.2833333333333333,
                0.2810911311696519,
                0.26605504587155965,
                0.26549000704512593,
                0.2553348844912125,
                0.25157232704402516,
                0.25053858597392714,
                0.25,
                0.2435808295047738,
                0.23931623931623933,
                0.23893805309734514
               ]
              ],
              "y": [
               [
                "Concord, NC: Concord Padgett Regional",
                "Redding, CA: Redding Municipal",
                "Bakersfield, CA: Meadows Field",
                "Aguadilla, PR: Rafael Hernandez",
                "Akron, OH: Akron-Canton Regional",
                "Trenton, NJ: Trenton Mercer",
                "Newport News/Williamsburg, VA: Newport News/Williamsburg International",
                "Aspen, CO: Aspen Pitkin County Sardy Field",
                "State College, PA: University Park",
                "Phoenix, AZ: Phoenix - Mesa Gateway",
                "Newark, NJ: Newark Liberty International",
                "Saginaw/Bay City/Midland, MI: MBS International",
                "Monterey, CA: Monterey Regional",
                "Everett, WA: Snohomish County",
                "Lubbock, TX: Lubbock Preston Smith International",
                "Joplin, MO: Joplin Regional",
                "Scranton/Wilkes-Barre, PA: Wilkes Barre Scranton International"
               ]
              ]
             },
             {
              "title": "Top 17 Airports by Delay Rate",
              "xaxis": {
               "title": "Delay Rate"
              },
              "yaxis": {
               "autorange": "reversed",
               "title": "Airport"
              }
             }
            ],
            "label": "Top 17",
            "method": "update"
           },
           {
            "args": [
             {
              "marker.color": [
               [
                0.4186046511627907,
                0.3225806451612903,
                0.3145708121436277,
                0.29850746268656714,
                0.29535864978902954,
                0.29432624113475175,
                0.2833333333333333,
                0.2810911311696519,
                0.26605504587155965,
                0.26549000704512593,
                0.2553348844912125,
                0.25157232704402516,
                0.25053858597392714,
                0.25,
                0.2435808295047738,
                0.23931623931623933,
                0.23893805309734514,
                0.23287676287220874
               ]
              ],
              "x": [
               [
                0.4186046511627907,
                0.3225806451612903,
                0.3145708121436277,
                0.29850746268656714,
                0.29535864978902954,
                0.29432624113475175,
                0.2833333333333333,
                0.2810911311696519,
                0.26605504587155965,
                0.26549000704512593,
                0.2553348844912125,
                0.25157232704402516,
                0.25053858597392714,
                0.25,
                0.2435808295047738,
                0.23931623931623933,
                0.23893805309734514,
                0.23287676287220874
               ]
              ],
              "y": [
               [
                "Concord, NC: Concord Padgett Regional",
                "Redding, CA: Redding Municipal",
                "Bakersfield, CA: Meadows Field",
                "Aguadilla, PR: Rafael Hernandez",
                "Akron, OH: Akron-Canton Regional",
                "Trenton, NJ: Trenton Mercer",
                "Newport News/Williamsburg, VA: Newport News/Williamsburg International",
                "Aspen, CO: Aspen Pitkin County Sardy Field",
                "State College, PA: University Park",
                "Phoenix, AZ: Phoenix - Mesa Gateway",
                "Newark, NJ: Newark Liberty International",
                "Saginaw/Bay City/Midland, MI: MBS International",
                "Monterey, CA: Monterey Regional",
                "Everett, WA: Snohomish County",
                "Lubbock, TX: Lubbock Preston Smith International",
                "Joplin, MO: Joplin Regional",
                "Scranton/Wilkes-Barre, PA: Wilkes Barre Scranton International",
                "Amarillo, TX: Rick Husband Amarillo International"
               ]
              ]
             },
             {
              "title": "Top 18 Airports by Delay Rate",
              "xaxis": {
               "title": "Delay Rate"
              },
              "yaxis": {
               "autorange": "reversed",
               "title": "Airport"
              }
             }
            ],
            "label": "Top 18",
            "method": "update"
           },
           {
            "args": [
             {
              "marker.color": [
               [
                0.4186046511627907,
                0.3225806451612903,
                0.3145708121436277,
                0.29850746268656714,
                0.29535864978902954,
                0.29432624113475175,
                0.2833333333333333,
                0.2810911311696519,
                0.26605504587155965,
                0.26549000704512593,
                0.2553348844912125,
                0.25157232704402516,
                0.25053858597392714,
                0.25,
                0.2435808295047738,
                0.23931623931623933,
                0.23893805309734514,
                0.23287676287220874,
                0.23255813953488372
               ]
              ],
              "x": [
               [
                0.4186046511627907,
                0.3225806451612903,
                0.3145708121436277,
                0.29850746268656714,
                0.29535864978902954,
                0.29432624113475175,
                0.2833333333333333,
                0.2810911311696519,
                0.26605504587155965,
                0.26549000704512593,
                0.2553348844912125,
                0.25157232704402516,
                0.25053858597392714,
                0.25,
                0.2435808295047738,
                0.23931623931623933,
                0.23893805309734514,
                0.23287676287220874,
                0.23255813953488372
               ]
              ],
              "y": [
               [
                "Concord, NC: Concord Padgett Regional",
                "Redding, CA: Redding Municipal",
                "Bakersfield, CA: Meadows Field",
                "Aguadilla, PR: Rafael Hernandez",
                "Akron, OH: Akron-Canton Regional",
                "Trenton, NJ: Trenton Mercer",
                "Newport News/Williamsburg, VA: Newport News/Williamsburg International",
                "Aspen, CO: Aspen Pitkin County Sardy Field",
                "State College, PA: University Park",
                "Phoenix, AZ: Phoenix - Mesa Gateway",
                "Newark, NJ: Newark Liberty International",
                "Saginaw/Bay City/Midland, MI: MBS International",
                "Monterey, CA: Monterey Regional",
                "Everett, WA: Snohomish County",
                "Lubbock, TX: Lubbock Preston Smith International",
                "Joplin, MO: Joplin Regional",
                "Scranton/Wilkes-Barre, PA: Wilkes Barre Scranton International",
                "Amarillo, TX: Rick Husband Amarillo International",
                "Arcata/Eureka, CA: California Redwood Coast Humboldt County"
               ]
              ]
             },
             {
              "title": "Top 19 Airports by Delay Rate",
              "xaxis": {
               "title": "Delay Rate"
              },
              "yaxis": {
               "autorange": "reversed",
               "title": "Airport"
              }
             }
            ],
            "label": "Top 19",
            "method": "update"
           },
           {
            "args": [
             {
              "marker.color": [
               [
                0.4186046511627907,
                0.3225806451612903,
                0.3145708121436277,
                0.29850746268656714,
                0.29535864978902954,
                0.29432624113475175,
                0.2833333333333333,
                0.2810911311696519,
                0.26605504587155965,
                0.26549000704512593,
                0.2553348844912125,
                0.25157232704402516,
                0.25053858597392714,
                0.25,
                0.2435808295047738,
                0.23931623931623933,
                0.23893805309734514,
                0.23287676287220874,
                0.23255813953488372,
                0.2316718777389391
               ]
              ],
              "x": [
               [
                0.4186046511627907,
                0.3225806451612903,
                0.3145708121436277,
                0.29850746268656714,
                0.29535864978902954,
                0.29432624113475175,
                0.2833333333333333,
                0.2810911311696519,
                0.26605504587155965,
                0.26549000704512593,
                0.2553348844912125,
                0.25157232704402516,
                0.25053858597392714,
                0.25,
                0.2435808295047738,
                0.23931623931623933,
                0.23893805309734514,
                0.23287676287220874,
                0.23255813953488372,
                0.2316718777389391
               ]
              ],
              "y": [
               [
                "Concord, NC: Concord Padgett Regional",
                "Redding, CA: Redding Municipal",
                "Bakersfield, CA: Meadows Field",
                "Aguadilla, PR: Rafael Hernandez",
                "Akron, OH: Akron-Canton Regional",
                "Trenton, NJ: Trenton Mercer",
                "Newport News/Williamsburg, VA: Newport News/Williamsburg International",
                "Aspen, CO: Aspen Pitkin County Sardy Field",
                "State College, PA: University Park",
                "Phoenix, AZ: Phoenix - Mesa Gateway",
                "Newark, NJ: Newark Liberty International",
                "Saginaw/Bay City/Midland, MI: MBS International",
                "Monterey, CA: Monterey Regional",
                "Everett, WA: Snohomish County",
                "Lubbock, TX: Lubbock Preston Smith International",
                "Joplin, MO: Joplin Regional",
                "Scranton/Wilkes-Barre, PA: Wilkes Barre Scranton International",
                "Amarillo, TX: Rick Husband Amarillo International",
                "Arcata/Eureka, CA: California Redwood Coast Humboldt County",
                "Rochester, NY: Greater Rochester International"
               ]
              ]
             },
             {
              "title": "Top 20 Airports by Delay Rate",
              "xaxis": {
               "title": "Delay Rate"
              },
              "yaxis": {
               "autorange": "reversed",
               "title": "Airport"
              }
             }
            ],
            "label": "Top 20",
            "method": "update"
           }
          ],
          "direction": "down",
          "showactive": true,
          "x": 0,
          "y": 1.15
         }
        ],
        "xaxis": {
         "title": {
          "text": "Delay Rate"
         }
        },
        "yaxis": {
         "autorange": "reversed",
         "title": {
          "text": "Airport"
         }
        }
       }
      }
     },
     "metadata": {},
     "output_type": "display_data"
    }
   ],
   "source": [
    "# ------------------------------------------------------\n",
    "# Top airlines and airports interactive visualization\n",
    "# ------------------------------------------------------\n",
    "\n",
    "# ----- Prepare data -----\n",
    "top_airlines = airline_delay_rates.sort_values(ascending=False)\n",
    "top_airports = airport_delay_rates.sort_values(ascending=False)\n",
    "\n",
    "# ----- Plot top airlines -----\n",
    "fig_airlines = go.Figure()\n",
    "fig_airlines.add_trace(go.Bar(\n",
    "    x=top_airlines.values[:10],\n",
    "    y=top_airlines.index[:10],\n",
    "    orientation='h',\n",
    "    marker=dict(color=top_airlines.values[:10], colorscale='Reds'),\n",
    "    name='Airlines'\n",
    "))\n",
    "\n",
    "# ----- Dropdown buttons for top N airlines ----- \n",
    "buttons_airlines = []\n",
    "max_airlines = min(20, len(top_airlines))\n",
    "for n in range(1, max_airlines + 1):\n",
    "    buttons_airlines.append(dict(\n",
    "        label=f\"Top {n}\",\n",
    "        method=\"update\",\n",
    "        args=[{\"x\": [top_airlines.values[:n]],\n",
    "               \"y\": [top_airlines.index[:n]],\n",
    "               \"marker.color\": [top_airlines.values[:n]]},\n",
    "              {\"title\": f\"Top {n} Airlines by Delay Rate\",\n",
    "               \"xaxis\": {\"title\": \"Delay Rate\"},\n",
    "               \"yaxis\": {\"title\": \"Airline\", \"autorange\": \"reversed\"}}]\n",
    "    ))\n",
    "\n",
    "fig_airlines.update_layout(\n",
    "    title=\"Top 10 Airlines by Delay Rate\",\n",
    "    xaxis=dict(title=\"Delay Rate\"),\n",
    "    yaxis=dict(title=\"Airline\", autorange=\"reversed\"),\n",
    "    plot_bgcolor='lightgray',\n",
    "    paper_bgcolor='lightgray',\n",
    "    updatemenus=[dict(\n",
    "        active=9,  # default top 10\n",
    "        buttons=buttons_airlines,\n",
    "        direction=\"down\",\n",
    "        showactive=True,\n",
    "        x=0,\n",
    "        y=1.15\n",
    "    )]\n",
    ")\n",
    "\n",
    "# ----- Plot top airports -----\n",
    "fig_airports = go.Figure()\n",
    "fig_airports.add_trace(go.Bar(\n",
    "    x=top_airports.values[:10],\n",
    "    y=top_airports.index[:10],\n",
    "    orientation='h',\n",
    "    marker=dict(color=top_airports.values[:10], colorscale='Blues'),\n",
    "    name='Airports'\n",
    "))\n",
    "\n",
    "# ----- Dropdown buttons for top N airports ----- \n",
    "buttons_airports = []\n",
    "max_airports = min(20, len(top_airports))\n",
    "for n in range(1, max_airports + 1):\n",
    "    buttons_airports.append(dict(\n",
    "        label=f\"Top {n}\",\n",
    "        method=\"update\",\n",
    "        args=[{\"x\": [top_airports.values[:n]],\n",
    "               \"y\": [top_airports.index[:n]],\n",
    "               \"marker.color\": [top_airports.values[:n]]},\n",
    "              {\"title\": f\"Top {n} Airports by Delay Rate\",\n",
    "               \"xaxis\": {\"title\": \"Delay Rate\"},\n",
    "               \"yaxis\": {\"title\": \"Airport\", \"autorange\": \"reversed\"}}]\n",
    "    ))\n",
    "\n",
    "fig_airports.update_layout(\n",
    "    title=\"Top 10 Airports by Delay Rate\",\n",
    "    xaxis=dict(title=\"Delay Rate\"),\n",
    "    yaxis=dict(title=\"Airport\", autorange=\"reversed\"),\n",
    "    plot_bgcolor='lightgray',\n",
    "    paper_bgcolor='lightgray',\n",
    "    updatemenus=[dict(\n",
    "        active=9,  # default top 10\n",
    "        buttons=buttons_airports,\n",
    "        direction=\"down\",\n",
    "        showactive=True,\n",
    "        x=0,\n",
    "        y=1.15\n",
    "    )]\n",
    ")\n",
    "\n",
    "# ----- Show plots -----\n",
    "fig_airlines.show()\n",
    "fig_airports.show()\n"
   ]
  },
  {
   "cell_type": "code",
   "execution_count": 15,
   "id": "9b21e500",
   "metadata": {},
   "outputs": [
    {
     "data": {
      "application/vnd.plotly.v1+json": {
       "config": {
        "plotlyServerURL": "https://plot.ly"
       },
       "data": [
        {
         "domain": {
          "x": [
           0,
           1
          ],
          "y": [
           0,
           1
          ]
         },
         "hole": 0.3,
         "hovertemplate": "Delay Type=%{label}<br>Total=%{value}<extra></extra>",
         "labels": [
          "carrier_ct",
          "weather_ct",
          "nas_ct",
          "security_ct",
          "late_aircraft_ct"
         ],
         "legendgroup": "",
         "name": "",
         "pull": [
          0.05,
          0.05,
          0.05,
          0.05,
          0.05
         ],
         "showlegend": true,
         "textinfo": "percent+label",
         "textposition": "inside",
         "type": "pie",
         "values": {
          "bdata": "C9ejcE056kBI4XoUbtiyQJqZmZmhaupAKVyPwvWwfEAK16NwRQXsQA==",
          "dtype": "f8"
         }
        }
       ],
       "layout": {
        "height": 500,
        "legend": {
         "tracegroupgap": 0
        },
        "margin": {
         "t": 60
        },
        "paper_bgcolor": "lightgray",
        "plot_bgcolor": "lightgray",
        "template": {
         "data": {
          "bar": [
           {
            "error_x": {
             "color": "#2a3f5f"
            },
            "error_y": {
             "color": "#2a3f5f"
            },
            "marker": {
             "line": {
              "color": "#E5ECF6",
              "width": 0.5
             },
             "pattern": {
              "fillmode": "overlay",
              "size": 10,
              "solidity": 0.2
             }
            },
            "type": "bar"
           }
          ],
          "barpolar": [
           {
            "marker": {
             "line": {
              "color": "#E5ECF6",
              "width": 0.5
             },
             "pattern": {
              "fillmode": "overlay",
              "size": 10,
              "solidity": 0.2
             }
            },
            "type": "barpolar"
           }
          ],
          "carpet": [
           {
            "aaxis": {
             "endlinecolor": "#2a3f5f",
             "gridcolor": "white",
             "linecolor": "white",
             "minorgridcolor": "white",
             "startlinecolor": "#2a3f5f"
            },
            "baxis": {
             "endlinecolor": "#2a3f5f",
             "gridcolor": "white",
             "linecolor": "white",
             "minorgridcolor": "white",
             "startlinecolor": "#2a3f5f"
            },
            "type": "carpet"
           }
          ],
          "choropleth": [
           {
            "colorbar": {
             "outlinewidth": 0,
             "ticks": ""
            },
            "type": "choropleth"
           }
          ],
          "contour": [
           {
            "colorbar": {
             "outlinewidth": 0,
             "ticks": ""
            },
            "colorscale": [
             [
              0,
              "#0d0887"
             ],
             [
              0.1111111111111111,
              "#46039f"
             ],
             [
              0.2222222222222222,
              "#7201a8"
             ],
             [
              0.3333333333333333,
              "#9c179e"
             ],
             [
              0.4444444444444444,
              "#bd3786"
             ],
             [
              0.5555555555555556,
              "#d8576b"
             ],
             [
              0.6666666666666666,
              "#ed7953"
             ],
             [
              0.7777777777777778,
              "#fb9f3a"
             ],
             [
              0.8888888888888888,
              "#fdca26"
             ],
             [
              1,
              "#f0f921"
             ]
            ],
            "type": "contour"
           }
          ],
          "contourcarpet": [
           {
            "colorbar": {
             "outlinewidth": 0,
             "ticks": ""
            },
            "type": "contourcarpet"
           }
          ],
          "heatmap": [
           {
            "colorbar": {
             "outlinewidth": 0,
             "ticks": ""
            },
            "colorscale": [
             [
              0,
              "#0d0887"
             ],
             [
              0.1111111111111111,
              "#46039f"
             ],
             [
              0.2222222222222222,
              "#7201a8"
             ],
             [
              0.3333333333333333,
              "#9c179e"
             ],
             [
              0.4444444444444444,
              "#bd3786"
             ],
             [
              0.5555555555555556,
              "#d8576b"
             ],
             [
              0.6666666666666666,
              "#ed7953"
             ],
             [
              0.7777777777777778,
              "#fb9f3a"
             ],
             [
              0.8888888888888888,
              "#fdca26"
             ],
             [
              1,
              "#f0f921"
             ]
            ],
            "type": "heatmap"
           }
          ],
          "histogram": [
           {
            "marker": {
             "pattern": {
              "fillmode": "overlay",
              "size": 10,
              "solidity": 0.2
             }
            },
            "type": "histogram"
           }
          ],
          "histogram2d": [
           {
            "colorbar": {
             "outlinewidth": 0,
             "ticks": ""
            },
            "colorscale": [
             [
              0,
              "#0d0887"
             ],
             [
              0.1111111111111111,
              "#46039f"
             ],
             [
              0.2222222222222222,
              "#7201a8"
             ],
             [
              0.3333333333333333,
              "#9c179e"
             ],
             [
              0.4444444444444444,
              "#bd3786"
             ],
             [
              0.5555555555555556,
              "#d8576b"
             ],
             [
              0.6666666666666666,
              "#ed7953"
             ],
             [
              0.7777777777777778,
              "#fb9f3a"
             ],
             [
              0.8888888888888888,
              "#fdca26"
             ],
             [
              1,
              "#f0f921"
             ]
            ],
            "type": "histogram2d"
           }
          ],
          "histogram2dcontour": [
           {
            "colorbar": {
             "outlinewidth": 0,
             "ticks": ""
            },
            "colorscale": [
             [
              0,
              "#0d0887"
             ],
             [
              0.1111111111111111,
              "#46039f"
             ],
             [
              0.2222222222222222,
              "#7201a8"
             ],
             [
              0.3333333333333333,
              "#9c179e"
             ],
             [
              0.4444444444444444,
              "#bd3786"
             ],
             [
              0.5555555555555556,
              "#d8576b"
             ],
             [
              0.6666666666666666,
              "#ed7953"
             ],
             [
              0.7777777777777778,
              "#fb9f3a"
             ],
             [
              0.8888888888888888,
              "#fdca26"
             ],
             [
              1,
              "#f0f921"
             ]
            ],
            "type": "histogram2dcontour"
           }
          ],
          "mesh3d": [
           {
            "colorbar": {
             "outlinewidth": 0,
             "ticks": ""
            },
            "type": "mesh3d"
           }
          ],
          "parcoords": [
           {
            "line": {
             "colorbar": {
              "outlinewidth": 0,
              "ticks": ""
             }
            },
            "type": "parcoords"
           }
          ],
          "pie": [
           {
            "automargin": true,
            "type": "pie"
           }
          ],
          "scatter": [
           {
            "fillpattern": {
             "fillmode": "overlay",
             "size": 10,
             "solidity": 0.2
            },
            "type": "scatter"
           }
          ],
          "scatter3d": [
           {
            "line": {
             "colorbar": {
              "outlinewidth": 0,
              "ticks": ""
             }
            },
            "marker": {
             "colorbar": {
              "outlinewidth": 0,
              "ticks": ""
             }
            },
            "type": "scatter3d"
           }
          ],
          "scattercarpet": [
           {
            "marker": {
             "colorbar": {
              "outlinewidth": 0,
              "ticks": ""
             }
            },
            "type": "scattercarpet"
           }
          ],
          "scattergeo": [
           {
            "marker": {
             "colorbar": {
              "outlinewidth": 0,
              "ticks": ""
             }
            },
            "type": "scattergeo"
           }
          ],
          "scattergl": [
           {
            "marker": {
             "colorbar": {
              "outlinewidth": 0,
              "ticks": ""
             }
            },
            "type": "scattergl"
           }
          ],
          "scattermap": [
           {
            "marker": {
             "colorbar": {
              "outlinewidth": 0,
              "ticks": ""
             }
            },
            "type": "scattermap"
           }
          ],
          "scattermapbox": [
           {
            "marker": {
             "colorbar": {
              "outlinewidth": 0,
              "ticks": ""
             }
            },
            "type": "scattermapbox"
           }
          ],
          "scatterpolar": [
           {
            "marker": {
             "colorbar": {
              "outlinewidth": 0,
              "ticks": ""
             }
            },
            "type": "scatterpolar"
           }
          ],
          "scatterpolargl": [
           {
            "marker": {
             "colorbar": {
              "outlinewidth": 0,
              "ticks": ""
             }
            },
            "type": "scatterpolargl"
           }
          ],
          "scatterternary": [
           {
            "marker": {
             "colorbar": {
              "outlinewidth": 0,
              "ticks": ""
             }
            },
            "type": "scatterternary"
           }
          ],
          "surface": [
           {
            "colorbar": {
             "outlinewidth": 0,
             "ticks": ""
            },
            "colorscale": [
             [
              0,
              "#0d0887"
             ],
             [
              0.1111111111111111,
              "#46039f"
             ],
             [
              0.2222222222222222,
              "#7201a8"
             ],
             [
              0.3333333333333333,
              "#9c179e"
             ],
             [
              0.4444444444444444,
              "#bd3786"
             ],
             [
              0.5555555555555556,
              "#d8576b"
             ],
             [
              0.6666666666666666,
              "#ed7953"
             ],
             [
              0.7777777777777778,
              "#fb9f3a"
             ],
             [
              0.8888888888888888,
              "#fdca26"
             ],
             [
              1,
              "#f0f921"
             ]
            ],
            "type": "surface"
           }
          ],
          "table": [
           {
            "cells": {
             "fill": {
              "color": "#EBF0F8"
             },
             "line": {
              "color": "white"
             }
            },
            "header": {
             "fill": {
              "color": "#C8D4E3"
             },
             "line": {
              "color": "white"
             }
            },
            "type": "table"
           }
          ]
         },
         "layout": {
          "annotationdefaults": {
           "arrowcolor": "#2a3f5f",
           "arrowhead": 0,
           "arrowwidth": 1
          },
          "autotypenumbers": "strict",
          "coloraxis": {
           "colorbar": {
            "outlinewidth": 0,
            "ticks": ""
           }
          },
          "colorscale": {
           "diverging": [
            [
             0,
             "#8e0152"
            ],
            [
             0.1,
             "#c51b7d"
            ],
            [
             0.2,
             "#de77ae"
            ],
            [
             0.3,
             "#f1b6da"
            ],
            [
             0.4,
             "#fde0ef"
            ],
            [
             0.5,
             "#f7f7f7"
            ],
            [
             0.6,
             "#e6f5d0"
            ],
            [
             0.7,
             "#b8e186"
            ],
            [
             0.8,
             "#7fbc41"
            ],
            [
             0.9,
             "#4d9221"
            ],
            [
             1,
             "#276419"
            ]
           ],
           "sequential": [
            [
             0,
             "#0d0887"
            ],
            [
             0.1111111111111111,
             "#46039f"
            ],
            [
             0.2222222222222222,
             "#7201a8"
            ],
            [
             0.3333333333333333,
             "#9c179e"
            ],
            [
             0.4444444444444444,
             "#bd3786"
            ],
            [
             0.5555555555555556,
             "#d8576b"
            ],
            [
             0.6666666666666666,
             "#ed7953"
            ],
            [
             0.7777777777777778,
             "#fb9f3a"
            ],
            [
             0.8888888888888888,
             "#fdca26"
            ],
            [
             1,
             "#f0f921"
            ]
           ],
           "sequentialminus": [
            [
             0,
             "#0d0887"
            ],
            [
             0.1111111111111111,
             "#46039f"
            ],
            [
             0.2222222222222222,
             "#7201a8"
            ],
            [
             0.3333333333333333,
             "#9c179e"
            ],
            [
             0.4444444444444444,
             "#bd3786"
            ],
            [
             0.5555555555555556,
             "#d8576b"
            ],
            [
             0.6666666666666666,
             "#ed7953"
            ],
            [
             0.7777777777777778,
             "#fb9f3a"
            ],
            [
             0.8888888888888888,
             "#fdca26"
            ],
            [
             1,
             "#f0f921"
            ]
           ]
          },
          "colorway": [
           "#636efa",
           "#EF553B",
           "#00cc96",
           "#ab63fa",
           "#FFA15A",
           "#19d3f3",
           "#FF6692",
           "#B6E880",
           "#FF97FF",
           "#FECB52"
          ],
          "font": {
           "color": "#2a3f5f"
          },
          "geo": {
           "bgcolor": "white",
           "lakecolor": "white",
           "landcolor": "#E5ECF6",
           "showlakes": true,
           "showland": true,
           "subunitcolor": "white"
          },
          "hoverlabel": {
           "align": "left"
          },
          "hovermode": "closest",
          "mapbox": {
           "style": "light"
          },
          "paper_bgcolor": "white",
          "plot_bgcolor": "#E5ECF6",
          "polar": {
           "angularaxis": {
            "gridcolor": "white",
            "linecolor": "white",
            "ticks": ""
           },
           "bgcolor": "#E5ECF6",
           "radialaxis": {
            "gridcolor": "white",
            "linecolor": "white",
            "ticks": ""
           }
          },
          "scene": {
           "xaxis": {
            "backgroundcolor": "#E5ECF6",
            "gridcolor": "white",
            "gridwidth": 2,
            "linecolor": "white",
            "showbackground": true,
            "ticks": "",
            "zerolinecolor": "white"
           },
           "yaxis": {
            "backgroundcolor": "#E5ECF6",
            "gridcolor": "white",
            "gridwidth": 2,
            "linecolor": "white",
            "showbackground": true,
            "ticks": "",
            "zerolinecolor": "white"
           },
           "zaxis": {
            "backgroundcolor": "#E5ECF6",
            "gridcolor": "white",
            "gridwidth": 2,
            "linecolor": "white",
            "showbackground": true,
            "ticks": "",
            "zerolinecolor": "white"
           }
          },
          "shapedefaults": {
           "line": {
            "color": "#2a3f5f"
           }
          },
          "ternary": {
           "aaxis": {
            "gridcolor": "white",
            "linecolor": "white",
            "ticks": ""
           },
           "baxis": {
            "gridcolor": "white",
            "linecolor": "white",
            "ticks": ""
           },
           "bgcolor": "#E5ECF6",
           "caxis": {
            "gridcolor": "white",
            "linecolor": "white",
            "ticks": ""
           }
          },
          "title": {
           "x": 0.05
          },
          "xaxis": {
           "automargin": true,
           "gridcolor": "white",
           "linecolor": "white",
           "ticks": "",
           "title": {
            "standoff": 15
           },
           "zerolinecolor": "white",
           "zerolinewidth": 2
          },
          "yaxis": {
           "automargin": true,
           "gridcolor": "white",
           "linecolor": "white",
           "ticks": "",
           "title": {
            "standoff": 15
           },
           "zerolinecolor": "white",
           "zerolinewidth": 2
          }
         }
        },
        "title": {
         "font": {
          "color": "black",
          "size": 24
         },
         "text": "Proportion of Delay Types",
         "x": 0.5
        },
        "width": 1200
       }
      }
     },
     "metadata": {},
     "output_type": "display_data"
    }
   ],
   "source": [
    "# ---------------------------------\n",
    "# Pie chart visualization\n",
    "# ---------------------------------\n",
    "\n",
    "# ----- Sum total delays per type ----- \n",
    "delay_type_totals = df_clean[delay_count_columns].sum().reset_index()\n",
    "delay_type_totals.columns = ['Delay Type', 'Total']\n",
    "\n",
    "# ----- Create interactive pie chart----- \n",
    "fig_pie = px.pie(\n",
    "    delay_type_totals,\n",
    "    names='Delay Type',\n",
    "    values='Total',\n",
    "    hole=0.3  # donut chart\n",
    ")\n",
    "\n",
    "# ----- Show labels on pie slices: percent + name ----- \n",
    "fig_pie.update_traces(\n",
    "    textinfo='percent+label',  # show label and percentage\n",
    "    textposition='inside',\n",
    "    pull=[0.05]*len(delay_type_totals)\n",
    ")\n",
    "\n",
    "# ----- Update layout to make title visible ----- \n",
    "fig_pie.update_layout(\n",
    "    title=dict(\n",
    "        text='Proportion of Delay Types',\n",
    "        font=dict(color='black', size=24),  # use black to be visible\n",
    "        x=0.5  # center title\n",
    "    ),\n",
    "    plot_bgcolor='lightgray',\n",
    "    paper_bgcolor='lightgray',\n",
    "    width=1200,\n",
    "    height=500\n",
    ")\n",
    "\n",
    "fig_pie.show()\n"
   ]
  },
  {
   "cell_type": "markdown",
   "id": "aa07b248",
   "metadata": {},
   "source": [
    "# ✈️ Conclusion and Insights\n",
    "\n",
    "## 📊 Key Findings from Airline Delay Analysis\n",
    "\n",
    "### 1. 🎯 Overall Performance\n",
    "- **Total Flights:** 997,120  \n",
    "- **Delayed Flights:** 170,477  \n",
    "- **Overall Delay Rate:** 17.10%  \n",
    "- **Interpretation:** Roughly 1 in 6 flights experienced a delay  \n",
    "\n",
    "### 2. 🏆 Carrier Performance Ranking\n",
    "- **Highest Delay Rate:** JetBlue Airways (27.35%)  \n",
    "- **Other high-delay carriers:** Allegiant Air (26.43%), ExpressJet (24.84%)  \n",
    "- **Lowest among top 10:** United Airlines (16.53%)  \n",
    "- **Major national carriers** (United, Southwest, Alaska): 16–18% delay rate  \n",
    "\n",
    "### 3. 🛫 Airport Performance Ranking\n",
    "- **Worst Performer:** Concord, NC (Concord Padgett Regional) – 41.86%  \n",
    "- **Other high-delay airports:** Redding, CA (32.26%), Bakersfield, CA (31.46%)  \n",
    "- Most high-delay airports are small/regional with limited capacity  \n",
    "- Larger hubs maintain lower, more stable delay rates  \n",
    "\n",
    "### 4. ⚠️ Delay Distribution Patterns\n",
    "- Delays are heavily concentrated in smaller carriers and airports  \n",
    "- Regional airports with limited infrastructure/weather exposure face extreme rates  \n",
    "- JetBlue and Allegiant alone contribute disproportionately to total delays  \n",
    "\n",
    "### 5. 📈 Operational Insights\n",
    "- Smaller/low-cost carriers face higher operational challenges vs. major airlines  \n",
    "- Hub airports manage large volumes better than small airports with fewer flights  \n",
    "- Delay rates vary widely: worst airports/airlines are nearly double the system average  \n",
    "\n",
    "### 6. 🎯 Recommendations for Improvement\n",
    "- Focus on operational reliability for regional/low-cost carriers (JetBlue, Allegiant)  \n",
    "- Infrastructure/ATC support for regional airports with 30%+ delay rates  \n",
    "- Prioritize predictive scheduling and turnaround efficiency  \n",
    "- Investigate geographic/weather-specific mitigation strategies (e.g., Aspen)  \n",
    "\n",
    "### 7. 🔍 Areas for Further Analysis\n",
    "- Seasonal delay patterns (summer vs. winter)  \n",
    "- Time-of-day effects (morning vs. evening flights)  \n",
    "- Route-specific performance (origin–destination pairs)  \n",
    "- Delay cause breakdown (carrier vs. weather vs. NAS vs. late aircraft)  \n",
    "- Cost and passenger impact of delays at high-delay airports  \n",
    "\n",
    "---\n",
    "\n",
    "## 📝 Summary\n",
    "The overall U.S. flight delay rate is **17.1%**, but certain airlines and airports significantly exceed this benchmark.  \n",
    "JetBlue, Allegiant, and regional airports like Concord and Redding drive a disproportionate share of delays.  \n",
    "Improvements in carrier operations and regional airport infrastructure could substantially reduce system-wide disruptions.\n"
   ]
  }
 ],
 "metadata": {
  "kernelspec": {
   "display_name": "base",
   "language": "python",
   "name": "python3"
  },
  "language_info": {
   "codemirror_mode": {
    "name": "ipython",
    "version": 3
   },
   "file_extension": ".py",
   "mimetype": "text/x-python",
   "name": "python",
   "nbconvert_exporter": "python",
   "pygments_lexer": "ipython3",
   "version": "3.11.13"
  }
 },
 "nbformat": 4,
 "nbformat_minor": 5
}
